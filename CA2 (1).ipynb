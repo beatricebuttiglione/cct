{
 "cells": [
  {
   "cell_type": "code",
   "execution_count": 21,
   "id": "1d546ece",
   "metadata": {},
   "outputs": [],
   "source": [
    "import pandas as pd\n",
    "import sqlite3\n",
    "from sklearn.preprocessing import LabelEncoder"
   ]
  },
  {
   "cell_type": "markdown",
   "id": "4a6313f2",
   "metadata": {},
   "source": [
    "# import files and creation of database in sql"
   ]
  },
  {
   "cell_type": "code",
   "execution_count": 93,
   "id": "8cbe1c8a",
   "metadata": {},
   "outputs": [],
   "source": [
    "conn = sqlite3.connect('ca2.db')"
   ]
  },
  {
   "cell_type": "code",
   "execution_count": 117,
   "id": "0c934d2d",
   "metadata": {},
   "outputs": [
    {
     "data": {
      "text/plain": [
       "17369"
      ]
     },
     "execution_count": 117,
     "metadata": {},
     "output_type": "execute_result"
    }
   ],
   "source": [
    "labour_pool = pd.read_csv('lfsa_epgn62$defaultview_linear.csv')\n",
    "labour_pool.to_sql('labour_pool', conn, if_exists='replace', index=False)"
   ]
  },
  {
   "cell_type": "code",
   "execution_count": 118,
   "id": "2253083c",
   "metadata": {},
   "outputs": [
    {
     "data": {
      "text/html": [
       "<div>\n",
       "<style scoped>\n",
       "    .dataframe tbody tr th:only-of-type {\n",
       "        vertical-align: middle;\n",
       "    }\n",
       "\n",
       "    .dataframe tbody tr th {\n",
       "        vertical-align: top;\n",
       "    }\n",
       "\n",
       "    .dataframe thead th {\n",
       "        text-align: right;\n",
       "    }\n",
       "</style>\n",
       "<table border=\"1\" class=\"dataframe\">\n",
       "  <thead>\n",
       "    <tr style=\"text-align: right;\">\n",
       "      <th></th>\n",
       "      <th>DATAFLOW</th>\n",
       "      <th>LAST UPDATE</th>\n",
       "      <th>freq</th>\n",
       "      <th>unit</th>\n",
       "      <th>sex</th>\n",
       "      <th>age</th>\n",
       "      <th>nace_r2</th>\n",
       "      <th>worktime</th>\n",
       "      <th>geo</th>\n",
       "      <th>TIME_PERIOD</th>\n",
       "      <th>OBS_VALUE</th>\n",
       "      <th>OBS_FLAG</th>\n",
       "    </tr>\n",
       "  </thead>\n",
       "  <tbody>\n",
       "    <tr>\n",
       "      <th>0</th>\n",
       "      <td>ESTAT:LFSA_EPGN62$DEFAULTVIEW(1.0)</td>\n",
       "      <td>27/04/23 02:29:00</td>\n",
       "      <td>A</td>\n",
       "      <td>THS_PER</td>\n",
       "      <td>F</td>\n",
       "      <td>Y15-64</td>\n",
       "      <td>A</td>\n",
       "      <td>FT</td>\n",
       "      <td>AT</td>\n",
       "      <td>2013</td>\n",
       "      <td>45.9</td>\n",
       "      <td>NaN</td>\n",
       "    </tr>\n",
       "    <tr>\n",
       "      <th>1</th>\n",
       "      <td>ESTAT:LFSA_EPGN62$DEFAULTVIEW(1.0)</td>\n",
       "      <td>27/04/23 02:29:00</td>\n",
       "      <td>A</td>\n",
       "      <td>THS_PER</td>\n",
       "      <td>F</td>\n",
       "      <td>Y15-64</td>\n",
       "      <td>A</td>\n",
       "      <td>FT</td>\n",
       "      <td>AT</td>\n",
       "      <td>2014</td>\n",
       "      <td>50.6</td>\n",
       "      <td>NaN</td>\n",
       "    </tr>\n",
       "    <tr>\n",
       "      <th>2</th>\n",
       "      <td>ESTAT:LFSA_EPGN62$DEFAULTVIEW(1.0)</td>\n",
       "      <td>27/04/23 02:29:00</td>\n",
       "      <td>A</td>\n",
       "      <td>THS_PER</td>\n",
       "      <td>F</td>\n",
       "      <td>Y15-64</td>\n",
       "      <td>A</td>\n",
       "      <td>FT</td>\n",
       "      <td>AT</td>\n",
       "      <td>2015</td>\n",
       "      <td>46.9</td>\n",
       "      <td>NaN</td>\n",
       "    </tr>\n",
       "    <tr>\n",
       "      <th>3</th>\n",
       "      <td>ESTAT:LFSA_EPGN62$DEFAULTVIEW(1.0)</td>\n",
       "      <td>27/04/23 02:29:00</td>\n",
       "      <td>A</td>\n",
       "      <td>THS_PER</td>\n",
       "      <td>F</td>\n",
       "      <td>Y15-64</td>\n",
       "      <td>A</td>\n",
       "      <td>FT</td>\n",
       "      <td>AT</td>\n",
       "      <td>2016</td>\n",
       "      <td>41.5</td>\n",
       "      <td>NaN</td>\n",
       "    </tr>\n",
       "    <tr>\n",
       "      <th>4</th>\n",
       "      <td>ESTAT:LFSA_EPGN62$DEFAULTVIEW(1.0)</td>\n",
       "      <td>27/04/23 02:29:00</td>\n",
       "      <td>A</td>\n",
       "      <td>THS_PER</td>\n",
       "      <td>F</td>\n",
       "      <td>Y15-64</td>\n",
       "      <td>A</td>\n",
       "      <td>FT</td>\n",
       "      <td>AT</td>\n",
       "      <td>2017</td>\n",
       "      <td>40.5</td>\n",
       "      <td>NaN</td>\n",
       "    </tr>\n",
       "  </tbody>\n",
       "</table>\n",
       "</div>"
      ],
      "text/plain": [
       "                             DATAFLOW        LAST UPDATE freq     unit sex  \\\n",
       "0  ESTAT:LFSA_EPGN62$DEFAULTVIEW(1.0)  27/04/23 02:29:00    A  THS_PER   F   \n",
       "1  ESTAT:LFSA_EPGN62$DEFAULTVIEW(1.0)  27/04/23 02:29:00    A  THS_PER   F   \n",
       "2  ESTAT:LFSA_EPGN62$DEFAULTVIEW(1.0)  27/04/23 02:29:00    A  THS_PER   F   \n",
       "3  ESTAT:LFSA_EPGN62$DEFAULTVIEW(1.0)  27/04/23 02:29:00    A  THS_PER   F   \n",
       "4  ESTAT:LFSA_EPGN62$DEFAULTVIEW(1.0)  27/04/23 02:29:00    A  THS_PER   F   \n",
       "\n",
       "      age nace_r2 worktime geo  TIME_PERIOD  OBS_VALUE OBS_FLAG  \n",
       "0  Y15-64       A       FT  AT         2013       45.9      NaN  \n",
       "1  Y15-64       A       FT  AT         2014       50.6      NaN  \n",
       "2  Y15-64       A       FT  AT         2015       46.9      NaN  \n",
       "3  Y15-64       A       FT  AT         2016       41.5      NaN  \n",
       "4  Y15-64       A       FT  AT         2017       40.5      NaN  "
      ]
     },
     "execution_count": 118,
     "metadata": {},
     "output_type": "execute_result"
    }
   ],
   "source": [
    "labour_pool.head()"
   ]
  },
  {
   "cell_type": "code",
   "execution_count": 96,
   "id": "e3485d72",
   "metadata": {},
   "outputs": [
    {
     "data": {
      "text/plain": [
       "34868"
      ]
     },
     "execution_count": 96,
     "metadata": {},
     "output_type": "execute_result"
    }
   ],
   "source": [
    "Precarious_employment = pd.read_csv('lfsa_qoe_4ax1r2_linear.csv')\n",
    "Precarious_employment.to_sql('Precarious_employment', conn, if_exists='replace', index=False)"
   ]
  },
  {
   "cell_type": "code",
   "execution_count": 97,
   "id": "3c7efc48",
   "metadata": {},
   "outputs": [
    {
     "data": {
      "text/plain": [
       "1096326"
      ]
     },
     "execution_count": 97,
     "metadata": {},
     "output_type": "execute_result"
    }
   ],
   "source": [
    "National_accounts_employment = pd.read_csv('nama_10_a64_e_linear.csv')\n",
    "National_accounts_employment.to_sql('National_accounts_employment', conn, if_exists='replace', index=False)"
   ]
  },
  {
   "cell_type": "code",
   "execution_count": 98,
   "id": "edf0a97f",
   "metadata": {},
   "outputs": [
    {
     "data": {
      "text/plain": [
       "4829"
      ]
     },
     "execution_count": 98,
     "metadata": {},
     "output_type": "execute_result"
    }
   ],
   "source": [
    "labour_productivity = pd.read_csv('tin00152_linear.csv')\n",
    "labour_productivity.to_sql('labour_productivity', conn, if_exists='replace', index=False)"
   ]
  },
  {
   "cell_type": "code",
   "execution_count": 99,
   "id": "a6108b91",
   "metadata": {},
   "outputs": [
    {
     "data": {
      "text/plain": [
       "3327"
      ]
     },
     "execution_count": 99,
     "metadata": {},
     "output_type": "execute_result"
    }
   ],
   "source": [
    "cost = pd.read_csv('sts_copi_a_linear.csv')\n",
    "cost.to_sql('cost', conn, if_exists='replace', index=False)"
   ]
  },
  {
   "cell_type": "code",
   "execution_count": 100,
   "id": "4cda8f5b",
   "metadata": {},
   "outputs": [
    {
     "data": {
      "text/plain": [
       "756"
      ]
     },
     "execution_count": 100,
     "metadata": {},
     "output_type": "execute_result"
    }
   ],
   "source": [
    "investment = pd.read_csv('tipsna50_linear.csv')\n",
    "investment.to_sql('investment', conn, if_exists='replace', index=False)"
   ]
  },
  {
   "cell_type": "code",
   "execution_count": 101,
   "id": "067736bd",
   "metadata": {},
   "outputs": [
    {
     "data": {
      "text/plain": [
       "13428"
      ]
     },
     "execution_count": 101,
     "metadata": {},
     "output_type": "execute_result"
    }
   ],
   "source": [
    "production = pd.read_csv('sts_copr_a_linear.csv')\n",
    "production.to_sql('production', conn, if_exists='replace', index=False)\n"
   ]
  },
  {
   "cell_type": "code",
   "execution_count": 119,
   "id": "0a60e18b",
   "metadata": {},
   "outputs": [
    {
     "data": {
      "text/plain": [
       "2800"
      ]
     },
     "execution_count": 119,
     "metadata": {},
     "output_type": "execute_result"
    }
   ],
   "source": [
    "\n",
    "housing_price = pd.read_csv('prc_hpi_a$defaultview_linear.csv')\n",
    "housing_price.to_sql('housing_price', conn, if_exists='replace', index=False)"
   ]
  },
  {
   "cell_type": "code",
   "execution_count": 162,
   "id": "d533c6fd",
   "metadata": {},
   "outputs": [
    {
     "data": {
      "text/plain": [
       "15304"
      ]
     },
     "execution_count": 162,
     "metadata": {},
     "output_type": "execute_result"
    }
   ],
   "source": [
    "\n",
    "population = pd.read_csv('nama_10_pe_linear.csv')\n",
    "population.to_sql('population', conn, if_exists='replace', index=False)"
   ]
  },
  {
   "cell_type": "markdown",
   "id": "706c3457",
   "metadata": {},
   "source": [
    "# query tables"
   ]
  },
  {
   "cell_type": "code",
   "execution_count": 185,
   "id": "ab4900bc",
   "metadata": {},
   "outputs": [],
   "source": [
    "query = \"SELECT geo,TIME_PERIOD,OBS_VALUE as'production' FROM  production WHERE nace_r2 = 'F' AND s_adj = 'CA' GROUP BY geo,TIME_PERIOD\"\n",
    "\n",
    "\n",
    "production = pd.read_sql_query(query, conn)"
   ]
  },
  {
   "cell_type": "code",
   "execution_count": 186,
   "id": "45099146",
   "metadata": {},
   "outputs": [],
   "source": [
    "query = \"SELECT geo,TIME_PERIOD,OBS_VALUE as'labour_productivity' FROM  labour_productivity WHERE nace_r2 = 'F'  GROUP BY geo,TIME_PERIOD\"\n",
    "\n",
    "\n",
    "labour_productivity = pd.read_sql_query(query, conn)"
   ]
  },
  {
   "cell_type": "code",
   "execution_count": 187,
   "id": "0739dc5f",
   "metadata": {},
   "outputs": [],
   "source": [
    "query = \"SELECT geo,TIME_PERIOD,OBS_VALUE as 'Precarious_employment' FROM  Precarious_employment WHERE nace_r2 = 'B-F' AND sex = 'T' GROUP BY geo,TIME_PERIOD\"\n",
    "\n",
    "\n",
    "Precarious_employment = pd.read_sql_query(query, conn)"
   ]
  },
  {
   "cell_type": "code",
   "execution_count": 188,
   "id": "f38a0afe",
   "metadata": {},
   "outputs": [],
   "source": [
    "query = \"SELECT geo,TIME_PERIOD,OBS_VALUE as 'labour_pool' FROM labour_pool WHERE nace_r2 = 'F' AND sex != 'T' GROUP BY geo,TIME_PERIOD\"\n",
    "\n",
    "\n",
    "labour_pool = pd.read_sql_query(query, conn)"
   ]
  },
  {
   "cell_type": "code",
   "execution_count": 189,
   "id": "c88a6b1b",
   "metadata": {},
   "outputs": [],
   "source": [
    "query = \"SELECT geo,TIME_PERIOD,OBS_VALUE as 'investment' FROM investment\"\n",
    "\n",
    "investment = pd.read_sql_query(query, conn)\n",
    "\n"
   ]
  },
  {
   "cell_type": "code",
   "execution_count": 190,
   "id": "de1d8c83",
   "metadata": {},
   "outputs": [],
   "source": [
    "query = \"SELECT geo,TIME_PERIOD,OBS_VALUE as 'cost' FROM cost WHERE unit = 'I15' AND indic_bt ='CSTO' GROUP BY geo,TIME_PERIOD,indic_bt\"\n",
    "\n",
    "cost = pd.read_sql_query(query, conn)"
   ]
  },
  {
   "cell_type": "code",
   "execution_count": 191,
   "id": "afba47ed",
   "metadata": {},
   "outputs": [],
   "source": [
    "query = \"SELECT unit,na_item,geo,TIME_PERIOD,OBS_VALUE FROM  National_accounts_employment WHERE nace_r2 = 'F' AND unit IN ('THS_HW', 'THS_JOB','THS_PER') \"\n",
    "\n",
    "\n",
    "National_accounts_employment = pd.read_sql_query(query, conn)"
   ]
  },
  {
   "cell_type": "code",
   "execution_count": 192,
   "id": "d00fb4bf",
   "metadata": {},
   "outputs": [],
   "source": [
    "\n",
    "query = \"SELECT purchase,geo,TIME_PERIOD,OBS_VALUE as'housing_price' FROM  housing_price WHERE unit ='I15_A_AVG' \"\n",
    "\n",
    "\n",
    "housing_price = pd.read_sql_query(query, conn)"
   ]
  },
  {
   "cell_type": "code",
   "execution_count": 193,
   "id": "3ec09873",
   "metadata": {},
   "outputs": [],
   "source": [
    "\n",
    "query = \"SELECT geo,TIME_PERIOD,OBS_VALUE,na_item  FROM  population WHERE na_item IN('POP_NC','EMP_NC') AND unit = 'THS_PER'  GROUP BY geo,TIME_PERIOD,na_item \"\n",
    "\n",
    "\n",
    "population = pd.read_sql_query(query, conn)"
   ]
  },
  {
   "cell_type": "markdown",
   "id": "3021b851",
   "metadata": {},
   "source": [
    "# data transformation"
   ]
  },
  {
   "cell_type": "code",
   "execution_count": 195,
   "id": "622ac45b",
   "metadata": {},
   "outputs": [],
   "source": [
    "housing_price = pd.pivot_table(housing_price, values='housing_price', index=['geo','TIME_PERIOD'], columns=['purchase'])"
   ]
  },
  {
   "cell_type": "code",
   "execution_count": 196,
   "id": "29e3b32a",
   "metadata": {},
   "outputs": [],
   "source": [
    "population = pd.pivot_table(population, values='OBS_VALUE', index=['geo','TIME_PERIOD'], columns=['na_item'])"
   ]
  },
  {
   "cell_type": "code",
   "execution_count": 197,
   "id": "50e7ca2b",
   "metadata": {},
   "outputs": [],
   "source": [
    "housing_price.reset_index(inplace=True)"
   ]
  },
  {
   "cell_type": "code",
   "execution_count": 198,
   "id": "8998834b",
   "metadata": {},
   "outputs": [],
   "source": [
    "population.reset_index(inplace=True)"
   ]
  },
  {
   "cell_type": "code",
   "execution_count": 199,
   "id": "94c36956",
   "metadata": {},
   "outputs": [],
   "source": [
    "National_accounts_employment['OBS_VALUE'] = pd.to_numeric(National_accounts_employment['OBS_VALUE'], errors='coerce')"
   ]
  },
  {
   "cell_type": "code",
   "execution_count": 200,
   "id": "cc7f80d0",
   "metadata": {},
   "outputs": [],
   "source": [
    "National_accounts_employment = pd.pivot_table(National_accounts_employment, values='OBS_VALUE', index=['geo','TIME_PERIOD'], columns=['na_item', 'unit'])"
   ]
  },
  {
   "cell_type": "code",
   "execution_count": 201,
   "id": "db50981c",
   "metadata": {},
   "outputs": [],
   "source": [
    "nuovi_nomi_colonne = ['Total Employment, Hours worked', 'Total Employment, Jobs', 'Total Employment, Persons',\n",
    "                      'Employees, Hours worked', 'Employees, Jobs', 'Employees, Persons',\n",
    "                      'Self Employed, Hours worked', 'Self Employed, Jobs', 'Self Employed, Persons'\n",
    "                     ]\n",
    "\n",
    "National_accounts_employment.columns = nuovi_nomi_colonne"
   ]
  },
  {
   "cell_type": "code",
   "execution_count": 202,
   "id": "3779b2ab",
   "metadata": {},
   "outputs": [],
   "source": [
    " National_accounts_employment= National_accounts_employment.reset_index()"
   ]
  },
  {
   "cell_type": "code",
   "execution_count": 203,
   "id": "90f7a147",
   "metadata": {},
   "outputs": [],
   "source": [
    "National_accounts_employment= National_accounts_employment[['geo','TIME_PERIOD','Total Employment, Persons','Employees, Persons','Self Employed, Persons']]"
   ]
  },
  {
   "cell_type": "code",
   "execution_count": 211,
   "id": "39463f60",
   "metadata": {},
   "outputs": [],
   "source": [
    "\n",
    "\n",
    "final = pd.merge(labour_productivity, Precarious_employment, on=['geo', 'TIME_PERIOD'])\n",
    "final = pd.merge(final, labour_pool, on=['geo', 'TIME_PERIOD'])\n",
    "final = pd.merge(final, production, on=['geo', 'TIME_PERIOD'])\n",
    "final = pd.merge(final, investment, on=['geo', 'TIME_PERIOD'])\n",
    "final = pd.merge(final, cost, on=['geo', 'TIME_PERIOD'])\n",
    "final = pd.merge(final, housing_price, on=['geo', 'TIME_PERIOD'])\n",
    "final = pd.merge(final, population, on=['geo', 'TIME_PERIOD'])"
   ]
  },
  {
   "cell_type": "code",
   "execution_count": 212,
   "id": "991f112a",
   "metadata": {},
   "outputs": [],
   "source": [
    "time = [2014, 2015, 2016, 2017, 2018, 2019, 2020,2021,2022]"
   ]
  },
  {
   "cell_type": "code",
   "execution_count": 213,
   "id": "cb77f40d",
   "metadata": {},
   "outputs": [],
   "source": [
    "final=final[final['TIME_PERIOD'].isin(time)]"
   ]
  },
  {
   "cell_type": "code",
   "execution_count": 215,
   "id": "710896d0",
   "metadata": {},
   "outputs": [],
   "source": [
    "countries = ['ES','IE','DE','IT','FR']"
   ]
  },
  {
   "cell_type": "code",
   "execution_count": 216,
   "id": "b7a248b6",
   "metadata": {},
   "outputs": [],
   "source": [
    "final=final[final['geo'].isin(countries)]"
   ]
  },
  {
   "cell_type": "code",
   "execution_count": 209,
   "id": "a2f5193b",
   "metadata": {},
   "outputs": [
    {
     "name": "stdout",
     "output_type": "stream",
     "text": [
      "<class 'pandas.core.frame.DataFrame'>\n",
      "Int64Index: 35 entries, 40 to 118\n",
      "Data columns (total 13 columns):\n",
      " #   Column                 Non-Null Count  Dtype  \n",
      "---  ------                 --------------  -----  \n",
      " 0   geo                    35 non-null     object \n",
      " 1   TIME_PERIOD            35 non-null     int64  \n",
      " 2   labour_productivity    35 non-null     float64\n",
      " 3   Precarious_employment  34 non-null     float64\n",
      " 4   labour_pool            35 non-null     float64\n",
      " 5   production             34 non-null     float64\n",
      " 6   investment             35 non-null     float64\n",
      " 7   cost                   35 non-null     float64\n",
      " 8   DW_EXST                35 non-null     float64\n",
      " 9   DW_NEW                 35 non-null     float64\n",
      " 10  TOTAL                  35 non-null     float64\n",
      " 11  EMP_NC                 35 non-null     float64\n",
      " 12  POP_NC                 35 non-null     float64\n",
      "dtypes: float64(11), int64(1), object(1)\n",
      "memory usage: 3.8+ KB\n"
     ]
    }
   ],
   "source": [
    "final.info()"
   ]
  },
  {
   "cell_type": "code",
   "execution_count": 217,
   "id": "a7931441",
   "metadata": {},
   "outputs": [
    {
     "data": {
      "text/html": [
       "<div>\n",
       "<style scoped>\n",
       "    .dataframe tbody tr th:only-of-type {\n",
       "        vertical-align: middle;\n",
       "    }\n",
       "\n",
       "    .dataframe tbody tr th {\n",
       "        vertical-align: top;\n",
       "    }\n",
       "\n",
       "    .dataframe thead th {\n",
       "        text-align: right;\n",
       "    }\n",
       "</style>\n",
       "<table border=\"1\" class=\"dataframe\">\n",
       "  <thead>\n",
       "    <tr style=\"text-align: right;\">\n",
       "      <th></th>\n",
       "      <th>TIME_PERIOD</th>\n",
       "      <th>labour_productivity</th>\n",
       "      <th>Precarious_employment</th>\n",
       "      <th>labour_pool</th>\n",
       "      <th>production</th>\n",
       "      <th>investment</th>\n",
       "      <th>cost</th>\n",
       "      <th>DW_EXST</th>\n",
       "      <th>DW_NEW</th>\n",
       "      <th>TOTAL</th>\n",
       "      <th>EMP_NC</th>\n",
       "      <th>POP_NC</th>\n",
       "    </tr>\n",
       "  </thead>\n",
       "  <tbody>\n",
       "    <tr>\n",
       "      <th>TIME_PERIOD</th>\n",
       "      <td>1.000000</td>\n",
       "      <td>0.179543</td>\n",
       "      <td>0.054749</td>\n",
       "      <td>0.056978</td>\n",
       "      <td>0.390889</td>\n",
       "      <td>0.161537</td>\n",
       "      <td>0.738788</td>\n",
       "      <td>0.689947</td>\n",
       "      <td>0.787215</td>\n",
       "      <td>0.710654</td>\n",
       "      <td>0.034084</td>\n",
       "      <td>0.010843</td>\n",
       "    </tr>\n",
       "    <tr>\n",
       "      <th>labour_productivity</th>\n",
       "      <td>0.179543</td>\n",
       "      <td>1.000000</td>\n",
       "      <td>-0.072536</td>\n",
       "      <td>-0.018664</td>\n",
       "      <td>0.551644</td>\n",
       "      <td>-0.190318</td>\n",
       "      <td>0.329544</td>\n",
       "      <td>0.375926</td>\n",
       "      <td>0.221253</td>\n",
       "      <td>0.356555</td>\n",
       "      <td>-0.247715</td>\n",
       "      <td>-0.348181</td>\n",
       "    </tr>\n",
       "    <tr>\n",
       "      <th>Precarious_employment</th>\n",
       "      <td>0.054749</td>\n",
       "      <td>-0.072536</td>\n",
       "      <td>1.000000</td>\n",
       "      <td>0.018661</td>\n",
       "      <td>-0.480285</td>\n",
       "      <td>0.322695</td>\n",
       "      <td>-0.158050</td>\n",
       "      <td>-0.299199</td>\n",
       "      <td>-0.185415</td>\n",
       "      <td>-0.285280</td>\n",
       "      <td>-0.028867</td>\n",
       "      <td>0.184545</td>\n",
       "    </tr>\n",
       "    <tr>\n",
       "      <th>labour_pool</th>\n",
       "      <td>0.056978</td>\n",
       "      <td>-0.018664</td>\n",
       "      <td>0.018661</td>\n",
       "      <td>1.000000</td>\n",
       "      <td>-0.018890</td>\n",
       "      <td>0.904342</td>\n",
       "      <td>0.346622</td>\n",
       "      <td>0.086487</td>\n",
       "      <td>0.053745</td>\n",
       "      <td>0.078034</td>\n",
       "      <td>0.933098</td>\n",
       "      <td>0.874650</td>\n",
       "    </tr>\n",
       "    <tr>\n",
       "      <th>production</th>\n",
       "      <td>0.390889</td>\n",
       "      <td>0.551644</td>\n",
       "      <td>-0.480285</td>\n",
       "      <td>-0.018890</td>\n",
       "      <td>1.000000</td>\n",
       "      <td>-0.237655</td>\n",
       "      <td>0.445838</td>\n",
       "      <td>0.605750</td>\n",
       "      <td>0.527580</td>\n",
       "      <td>0.601463</td>\n",
       "      <td>-0.196708</td>\n",
       "      <td>-0.381536</td>\n",
       "    </tr>\n",
       "    <tr>\n",
       "      <th>investment</th>\n",
       "      <td>0.161537</td>\n",
       "      <td>-0.190318</td>\n",
       "      <td>0.322695</td>\n",
       "      <td>0.904342</td>\n",
       "      <td>-0.237655</td>\n",
       "      <td>1.000000</td>\n",
       "      <td>0.297061</td>\n",
       "      <td>0.072272</td>\n",
       "      <td>0.124047</td>\n",
       "      <td>0.075011</td>\n",
       "      <td>0.870055</td>\n",
       "      <td>0.897050</td>\n",
       "    </tr>\n",
       "    <tr>\n",
       "      <th>cost</th>\n",
       "      <td>0.738788</td>\n",
       "      <td>0.329544</td>\n",
       "      <td>-0.158050</td>\n",
       "      <td>0.346622</td>\n",
       "      <td>0.445838</td>\n",
       "      <td>0.297061</td>\n",
       "      <td>1.000000</td>\n",
       "      <td>0.789181</td>\n",
       "      <td>0.708521</td>\n",
       "      <td>0.782656</td>\n",
       "      <td>0.277318</td>\n",
       "      <td>0.182788</td>\n",
       "    </tr>\n",
       "    <tr>\n",
       "      <th>DW_EXST</th>\n",
       "      <td>0.689947</td>\n",
       "      <td>0.375926</td>\n",
       "      <td>-0.299199</td>\n",
       "      <td>0.086487</td>\n",
       "      <td>0.605750</td>\n",
       "      <td>0.072272</td>\n",
       "      <td>0.789181</td>\n",
       "      <td>1.000000</td>\n",
       "      <td>0.952170</td>\n",
       "      <td>0.998946</td>\n",
       "      <td>-0.051873</td>\n",
       "      <td>-0.168831</td>\n",
       "    </tr>\n",
       "    <tr>\n",
       "      <th>DW_NEW</th>\n",
       "      <td>0.787215</td>\n",
       "      <td>0.221253</td>\n",
       "      <td>-0.185415</td>\n",
       "      <td>0.053745</td>\n",
       "      <td>0.527580</td>\n",
       "      <td>0.124047</td>\n",
       "      <td>0.708521</td>\n",
       "      <td>0.952170</td>\n",
       "      <td>1.000000</td>\n",
       "      <td>0.964737</td>\n",
       "      <td>-0.063795</td>\n",
       "      <td>-0.144989</td>\n",
       "    </tr>\n",
       "    <tr>\n",
       "      <th>TOTAL</th>\n",
       "      <td>0.710654</td>\n",
       "      <td>0.356555</td>\n",
       "      <td>-0.285280</td>\n",
       "      <td>0.078034</td>\n",
       "      <td>0.601463</td>\n",
       "      <td>0.075011</td>\n",
       "      <td>0.782656</td>\n",
       "      <td>0.998946</td>\n",
       "      <td>0.964737</td>\n",
       "      <td>1.000000</td>\n",
       "      <td>-0.057701</td>\n",
       "      <td>-0.170296</td>\n",
       "    </tr>\n",
       "    <tr>\n",
       "      <th>EMP_NC</th>\n",
       "      <td>0.034084</td>\n",
       "      <td>-0.247715</td>\n",
       "      <td>-0.028867</td>\n",
       "      <td>0.933098</td>\n",
       "      <td>-0.196708</td>\n",
       "      <td>0.870055</td>\n",
       "      <td>0.277318</td>\n",
       "      <td>-0.051873</td>\n",
       "      <td>-0.063795</td>\n",
       "      <td>-0.057701</td>\n",
       "      <td>1.000000</td>\n",
       "      <td>0.970355</td>\n",
       "    </tr>\n",
       "    <tr>\n",
       "      <th>POP_NC</th>\n",
       "      <td>0.010843</td>\n",
       "      <td>-0.348181</td>\n",
       "      <td>0.184545</td>\n",
       "      <td>0.874650</td>\n",
       "      <td>-0.381536</td>\n",
       "      <td>0.897050</td>\n",
       "      <td>0.182788</td>\n",
       "      <td>-0.168831</td>\n",
       "      <td>-0.144989</td>\n",
       "      <td>-0.170296</td>\n",
       "      <td>0.970355</td>\n",
       "      <td>1.000000</td>\n",
       "    </tr>\n",
       "  </tbody>\n",
       "</table>\n",
       "</div>"
      ],
      "text/plain": [
       "                       TIME_PERIOD  labour_productivity  \\\n",
       "TIME_PERIOD               1.000000             0.179543   \n",
       "labour_productivity       0.179543             1.000000   \n",
       "Precarious_employment     0.054749            -0.072536   \n",
       "labour_pool               0.056978            -0.018664   \n",
       "production                0.390889             0.551644   \n",
       "investment                0.161537            -0.190318   \n",
       "cost                      0.738788             0.329544   \n",
       "DW_EXST                   0.689947             0.375926   \n",
       "DW_NEW                    0.787215             0.221253   \n",
       "TOTAL                     0.710654             0.356555   \n",
       "EMP_NC                    0.034084            -0.247715   \n",
       "POP_NC                    0.010843            -0.348181   \n",
       "\n",
       "                       Precarious_employment  labour_pool  production  \\\n",
       "TIME_PERIOD                         0.054749     0.056978    0.390889   \n",
       "labour_productivity                -0.072536    -0.018664    0.551644   \n",
       "Precarious_employment               1.000000     0.018661   -0.480285   \n",
       "labour_pool                         0.018661     1.000000   -0.018890   \n",
       "production                         -0.480285    -0.018890    1.000000   \n",
       "investment                          0.322695     0.904342   -0.237655   \n",
       "cost                               -0.158050     0.346622    0.445838   \n",
       "DW_EXST                            -0.299199     0.086487    0.605750   \n",
       "DW_NEW                             -0.185415     0.053745    0.527580   \n",
       "TOTAL                              -0.285280     0.078034    0.601463   \n",
       "EMP_NC                             -0.028867     0.933098   -0.196708   \n",
       "POP_NC                              0.184545     0.874650   -0.381536   \n",
       "\n",
       "                       investment      cost   DW_EXST    DW_NEW     TOTAL  \\\n",
       "TIME_PERIOD              0.161537  0.738788  0.689947  0.787215  0.710654   \n",
       "labour_productivity     -0.190318  0.329544  0.375926  0.221253  0.356555   \n",
       "Precarious_employment    0.322695 -0.158050 -0.299199 -0.185415 -0.285280   \n",
       "labour_pool              0.904342  0.346622  0.086487  0.053745  0.078034   \n",
       "production              -0.237655  0.445838  0.605750  0.527580  0.601463   \n",
       "investment               1.000000  0.297061  0.072272  0.124047  0.075011   \n",
       "cost                     0.297061  1.000000  0.789181  0.708521  0.782656   \n",
       "DW_EXST                  0.072272  0.789181  1.000000  0.952170  0.998946   \n",
       "DW_NEW                   0.124047  0.708521  0.952170  1.000000  0.964737   \n",
       "TOTAL                    0.075011  0.782656  0.998946  0.964737  1.000000   \n",
       "EMP_NC                   0.870055  0.277318 -0.051873 -0.063795 -0.057701   \n",
       "POP_NC                   0.897050  0.182788 -0.168831 -0.144989 -0.170296   \n",
       "\n",
       "                         EMP_NC    POP_NC  \n",
       "TIME_PERIOD            0.034084  0.010843  \n",
       "labour_productivity   -0.247715 -0.348181  \n",
       "Precarious_employment -0.028867  0.184545  \n",
       "labour_pool            0.933098  0.874650  \n",
       "production            -0.196708 -0.381536  \n",
       "investment             0.870055  0.897050  \n",
       "cost                   0.277318  0.182788  \n",
       "DW_EXST               -0.051873 -0.168831  \n",
       "DW_NEW                -0.063795 -0.144989  \n",
       "TOTAL                 -0.057701 -0.170296  \n",
       "EMP_NC                 1.000000  0.970355  \n",
       "POP_NC                 0.970355  1.000000  "
      ]
     },
     "execution_count": 217,
     "metadata": {},
     "output_type": "execute_result"
    }
   ],
   "source": [
    "correlations = final.corr()\n",
    "correlations"
   ]
  },
  {
   "cell_type": "code",
   "execution_count": null,
   "id": "4d14664e",
   "metadata": {},
   "outputs": [],
   "source": []
  }
 ],
 "metadata": {
  "kernelspec": {
   "display_name": "Python 3 (ipykernel)",
   "language": "python",
   "name": "python3"
  },
  "language_info": {
   "codemirror_mode": {
    "name": "ipython",
    "version": 3
   },
   "file_extension": ".py",
   "mimetype": "text/x-python",
   "name": "python",
   "nbconvert_exporter": "python",
   "pygments_lexer": "ipython3",
   "version": "3.10.9"
  }
 },
 "nbformat": 4,
 "nbformat_minor": 5
}
