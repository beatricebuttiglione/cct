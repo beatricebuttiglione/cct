{
 "cells": [
  {
   "cell_type": "code",
   "execution_count": 1,
   "id": "60738a32",
   "metadata": {
    "ExecuteTime": {
     "end_time": "2023-05-08T19:44:25.014066Z",
     "start_time": "2023-05-08T19:44:24.934048Z"
    }
   },
   "outputs": [],
   "source": [
    "from dotenv import load_dotenv\n",
    "from os import getenv\n",
    "import requests\n",
    "import praw\n",
    "import pandas as pd"
   ]
  },
  {
   "cell_type": "code",
   "execution_count": 2,
   "id": "06382782",
   "metadata": {
    "ExecuteTime": {
     "end_time": "2023-05-08T19:47:10.541980Z",
     "start_time": "2023-05-08T19:47:10.528977Z"
    }
   },
   "outputs": [],
   "source": [
    "load_dotenv()\n",
    "\n",
    "APP_NAME = getenv('APP_NAME')\n",
    "APP_ID = getenv('APP_ID')\n",
    "APP_SECRET = getenv('APP_SECRET')\n",
    "USERNAME = getenv('REDDIT_USERNAME')\n",
    "PASSWORD = getenv('REDDIT_PASSWORD')\n"
   ]
  },
  {
   "cell_type": "code",
   "execution_count": 3,
   "id": "02096b6d",
   "metadata": {
    "ExecuteTime": {
     "end_time": "2023-05-08T19:46:42.214032Z",
     "start_time": "2023-05-08T19:46:42.193028Z"
    }
   },
   "outputs": [
    {
     "name": "stdout",
     "output_type": "stream",
     "text": [
      "Beatrice359\n"
     ]
    }
   ],
   "source": [
    "print(USERNAME)"
   ]
  },
  {
   "cell_type": "code",
   "execution_count": 4,
   "id": "c855e470",
   "metadata": {
    "ExecuteTime": {
     "end_time": "2023-05-08T19:56:42.065629Z",
     "start_time": "2023-05-08T19:56:41.370472Z"
    }
   },
   "outputs": [
    {
     "name": "stdout",
     "output_type": "stream",
     "text": [
      "200\n"
     ]
    }
   ],
   "source": [
    "auth = requests.auth.HTTPBasicAuth(APP_ID, APP_SECRET)\n",
    "\n",
    "data = {\n",
    "    'grant_type': 'password',\n",
    "    'username': USERNAME,\n",
    "    'password': PASSWORD\n",
    "}\n",
    "\n",
    "headers = {'User-Agent': f'windows:{APP_NAME}:v1.0 (by /u/{USERNAME})'}\n",
    "\n",
    "res = requests.post(\n",
    "    'https://www.reddit.com/api/v1/access_token', # OAuth2\n",
    "    auth=auth,\n",
    "    data=data,\n",
    "    headers=headers\n",
    ")\n",
    "\n",
    "print(res.status_code)"
   ]
  },
  {
   "cell_type": "code",
   "execution_count": 5,
   "id": "f291d6bd",
   "metadata": {
    "ExecuteTime": {
     "end_time": "2023-05-08T20:00:39.849145Z",
     "start_time": "2023-05-08T20:00:39.832140Z"
    }
   },
   "outputs": [],
   "source": [
    "TOKEN = res.json()['access_token']\n",
    "headers = {**headers, **{'Authorization': f'bearer {TOKEN}'}}"
   ]
  },
  {
   "cell_type": "code",
   "execution_count": 6,
   "id": "d1d6822d",
   "metadata": {
    "ExecuteTime": {
     "end_time": "2023-05-08T20:01:52.455403Z",
     "start_time": "2023-05-08T20:01:52.199841Z"
    }
   },
   "outputs": [
    {
     "name": "stdout",
     "output_type": "stream",
     "text": [
      "200\n"
     ]
    }
   ],
   "source": [
    "res = requests.get('https://oauth.reddit.com/api/v1/me', headers=headers)\n",
    "print(res.status_code)"
   ]
  },
  {
   "cell_type": "code",
   "execution_count": 7,
   "id": "729d6e1f",
   "metadata": {
    "ExecuteTime": {
     "end_time": "2023-05-08T20:02:17.284848Z",
     "start_time": "2023-05-08T20:02:17.270845Z"
    }
   },
   "outputs": [
    {
     "data": {
      "text/plain": [
       "<Response [200]>"
      ]
     },
     "execution_count": 7,
     "metadata": {},
     "output_type": "execute_result"
    }
   ],
   "source": [
    "res"
   ]
  },
  {
   "cell_type": "code",
   "execution_count": 8,
   "id": "e2d6d3e1",
   "metadata": {
    "ExecuteTime": {
     "end_time": "2023-05-08T20:02:27.305100Z",
     "start_time": "2023-05-08T20:02:27.287097Z"
    }
   },
   "outputs": [
    {
     "data": {
      "text/plain": [
       "{'is_employee': False,\n",
       " 'seen_layout_switch': False,\n",
       " 'has_visited_new_profile': False,\n",
       " 'pref_no_profanity': True,\n",
       " 'has_external_account': False,\n",
       " 'pref_geopopular': '',\n",
       " 'seen_redesign_modal': False,\n",
       " 'pref_show_trending': True,\n",
       " 'subreddit': {'default_set': True,\n",
       "  'user_is_contributor': False,\n",
       "  'banner_img': '',\n",
       "  'restrict_posting': True,\n",
       "  'user_is_banned': False,\n",
       "  'free_form_reports': True,\n",
       "  'community_icon': None,\n",
       "  'show_media': True,\n",
       "  'icon_color': '#FF99AA',\n",
       "  'user_is_muted': None,\n",
       "  'display_name': 'u_Beatrice359',\n",
       "  'header_img': None,\n",
       "  'title': '',\n",
       "  'coins': 0,\n",
       "  'previous_names': [],\n",
       "  'over_18': False,\n",
       "  'icon_size': [256, 256],\n",
       "  'primary_color': '',\n",
       "  'icon_img': 'https://www.redditstatic.com/avatars/defaults/v2/avatar_default_0.png',\n",
       "  'description': '',\n",
       "  'allowed_media_in_comments': [],\n",
       "  'submit_link_label': '',\n",
       "  'header_size': None,\n",
       "  'restrict_commenting': False,\n",
       "  'subscribers': 0,\n",
       "  'submit_text_label': '',\n",
       "  'is_default_icon': True,\n",
       "  'link_flair_position': '',\n",
       "  'display_name_prefixed': 'u/Beatrice359',\n",
       "  'key_color': '',\n",
       "  'name': 't5_8fbt1e',\n",
       "  'is_default_banner': True,\n",
       "  'url': '/user/Beatrice359/',\n",
       "  'quarantine': False,\n",
       "  'banner_size': None,\n",
       "  'user_is_moderator': True,\n",
       "  'accept_followers': True,\n",
       "  'public_description': '',\n",
       "  'link_flair_enabled': False,\n",
       "  'disable_contributor_requests': False,\n",
       "  'subreddit_type': 'user',\n",
       "  'user_is_subscriber': False},\n",
       " 'pref_show_presence': True,\n",
       " 'snoovatar_img': '',\n",
       " 'snoovatar_size': None,\n",
       " 'gold_expiration': None,\n",
       " 'has_gold_subscription': False,\n",
       " 'is_sponsor': False,\n",
       " 'num_friends': 0,\n",
       " 'features': {'modmail_harassment_filter': True,\n",
       "  'mod_service_mute_writes': True,\n",
       "  'promoted_trend_blanks': True,\n",
       "  'show_amp_link': True,\n",
       "  'chat': True,\n",
       "  'is_email_permission_required': True,\n",
       "  'mod_awards': True,\n",
       "  'expensive_coins_package': True,\n",
       "  'mweb_xpromo_revamp_v2': {'owner': 'growth',\n",
       "   'variant': 'control_1',\n",
       "   'experiment_id': 457},\n",
       "  'awards_on_streams': True,\n",
       "  'mweb_xpromo_modal_listing_click_daily_dismissible_ios': True,\n",
       "  'chat_subreddit': True,\n",
       "  'cookie_consent_banner': True,\n",
       "  'modlog_copyright_removal': True,\n",
       "  'do_not_track': True,\n",
       "  'images_in_comments': True,\n",
       "  'mod_service_mute_reads': True,\n",
       "  'chat_user_settings': True,\n",
       "  'use_pref_account_deployment': True,\n",
       "  'mweb_xpromo_interstitial_comments_ios': True,\n",
       "  'mweb_xpromo_modal_listing_click_daily_dismissible_android': True,\n",
       "  'premium_subscriptions_table': True,\n",
       "  'mweb_xpromo_interstitial_comments_android': True,\n",
       "  'crowd_control_for_post': True,\n",
       "  'chat_group_rollout': True,\n",
       "  'resized_styles_images': True,\n",
       "  'noreferrer_to_noopener': True},\n",
       " 'can_edit_name': False,\n",
       " 'verified': True,\n",
       " 'new_modmail_exists': None,\n",
       " 'pref_autoplay': True,\n",
       " 'coins': 0,\n",
       " 'has_paypal_subscription': False,\n",
       " 'has_subscribed_to_premium': False,\n",
       " 'id': 'bjmxth7bk',\n",
       " 'has_stripe_subscription': False,\n",
       " 'oauth_client_id': 'qqXgZdBhbFkuURaJ08M_Jg',\n",
       " 'can_create_subreddit': True,\n",
       " 'over_18': False,\n",
       " 'is_gold': False,\n",
       " 'is_mod': False,\n",
       " 'awarder_karma': 0,\n",
       " 'suspension_expiration_utc': None,\n",
       " 'has_verified_email': True,\n",
       " 'is_suspended': False,\n",
       " 'pref_video_autoplay': True,\n",
       " 'in_chat': True,\n",
       " 'has_android_subscription': False,\n",
       " 'in_redesign_beta': True,\n",
       " 'icon_img': 'https://www.redditstatic.com/avatars/defaults/v2/avatar_default_0.png',\n",
       " 'has_mod_mail': False,\n",
       " 'pref_nightmode': False,\n",
       " 'awardee_karma': 0,\n",
       " 'hide_from_robots': False,\n",
       " 'password_set': True,\n",
       " 'link_karma': 1,\n",
       " 'force_password_reset': False,\n",
       " 'total_karma': 1,\n",
       " 'seen_give_award_tooltip': False,\n",
       " 'inbox_count': 1,\n",
       " 'seen_premium_adblock_modal': False,\n",
       " 'pref_top_karma_subreddits': True,\n",
       " 'has_mail': True,\n",
       " 'pref_show_snoovatar': False,\n",
       " 'name': 'Beatrice359',\n",
       " 'pref_clickgadget': 5,\n",
       " 'created': 1684413347.0,\n",
       " 'gold_creddits': 0,\n",
       " 'created_utc': 1684413347.0,\n",
       " 'has_ios_subscription': False,\n",
       " 'pref_show_twitter': False,\n",
       " 'in_beta': False,\n",
       " 'comment_karma': 0,\n",
       " 'accept_followers': True,\n",
       " 'has_subscribed': True,\n",
       " 'linked_identities': [],\n",
       " 'seen_subreddit_chat_ftux': False}"
      ]
     },
     "execution_count": 8,
     "metadata": {},
     "output_type": "execute_result"
    }
   ],
   "source": [
    "res.json()"
   ]
  },
  {
   "cell_type": "code",
   "execution_count": 9,
   "id": "47064446",
   "metadata": {},
   "outputs": [],
   "source": [
    "import requests\n",
    "import pandas as pd\n",
    "from datetime import datetime\n",
    "\n",
    "# function to convert responses to dataframes\n",
    "def df_from_reddit(res):\n",
    "    # initialize temp dataframe for batch of data in response\n",
    "    df = pd.DataFrame()\n",
    "\n",
    "\n",
    "\n",
    "    for post in res.json()['data']['children']:\n",
    "        new_row = {\n",
    "            'subreddit': post['data']['subreddit'],\n",
    "            'title': post['data']['title'],\n",
    "            'selftext': post['data']['selftext'],\n",
    "            'created_utc': datetime.fromtimestamp(post['data']['created_utc']).strftime('%Y-%m-%dT%H:%M:%SZ'),\n",
    "            'id': post['data']['id'],\n",
    "            'kind': post['kind']\n",
    "        }\n",
    "        df = pd.concat([df, pd.DataFrame([new_row])], ignore_index=True)\n",
    "\n",
    "\n",
    "    return df\n",
    "\n",
    "\n"
   ]
  },
  {
   "cell_type": "code",
   "execution_count": 10,
   "id": "33623ccd",
   "metadata": {},
   "outputs": [
    {
     "data": {
      "text/html": [
       "<div>\n",
       "<style scoped>\n",
       "    .dataframe tbody tr th:only-of-type {\n",
       "        vertical-align: middle;\n",
       "    }\n",
       "\n",
       "    .dataframe tbody tr th {\n",
       "        vertical-align: top;\n",
       "    }\n",
       "\n",
       "    .dataframe thead th {\n",
       "        text-align: right;\n",
       "    }\n",
       "</style>\n",
       "<table border=\"1\" class=\"dataframe\">\n",
       "  <thead>\n",
       "    <tr style=\"text-align: right;\">\n",
       "      <th></th>\n",
       "      <th>subreddit</th>\n",
       "      <th>title</th>\n",
       "      <th>selftext</th>\n",
       "      <th>created_utc</th>\n",
       "      <th>id</th>\n",
       "      <th>kind</th>\n",
       "    </tr>\n",
       "  </thead>\n",
       "  <tbody>\n",
       "    <tr>\n",
       "      <th>0</th>\n",
       "      <td>unitedkingdom</td>\n",
       "      <td>UK house prices up 4.1% year-on-year in March</td>\n",
       "      <td></td>\n",
       "      <td>2023-05-25T07:01:54Z</td>\n",
       "      <td>13r9i18</td>\n",
       "      <td>t3</td>\n",
       "    </tr>\n",
       "    <tr>\n",
       "      <th>1</th>\n",
       "      <td>unitedkingdom</td>\n",
       "      <td>House prices need to fall relative to income, ...</td>\n",
       "      <td></td>\n",
       "      <td>2023-05-17T21:10:14Z</td>\n",
       "      <td>13kcn08</td>\n",
       "      <td>t3</td>\n",
       "    </tr>\n",
       "    <tr>\n",
       "      <th>2</th>\n",
       "      <td>unitedkingdom</td>\n",
       "      <td>London house prices: First-time buyers need ho...</td>\n",
       "      <td></td>\n",
       "      <td>2023-05-03T20:48:31Z</td>\n",
       "      <td>136xfy3</td>\n",
       "      <td>t3</td>\n",
       "    </tr>\n",
       "    <tr>\n",
       "      <th>3</th>\n",
       "      <td>unitedkingdom</td>\n",
       "      <td>House prices record seventh consecutive monthl...</td>\n",
       "      <td></td>\n",
       "      <td>2023-03-31T07:18:23Z</td>\n",
       "      <td>127c6f5</td>\n",
       "      <td>t3</td>\n",
       "    </tr>\n",
       "    <tr>\n",
       "      <th>4</th>\n",
       "      <td>unitedkingdom</td>\n",
       "      <td>UK house prices defy gloom with an average £3,...</td>\n",
       "      <td></td>\n",
       "      <td>2023-03-20T10:28:26Z</td>\n",
       "      <td>11wf04a</td>\n",
       "      <td>t3</td>\n",
       "    </tr>\n",
       "  </tbody>\n",
       "</table>\n",
       "</div>"
      ],
      "text/plain": [
       "       subreddit                                              title selftext  \\\n",
       "0  unitedkingdom      UK house prices up 4.1% year-on-year in March            \n",
       "1  unitedkingdom  House prices need to fall relative to income, ...            \n",
       "2  unitedkingdom  London house prices: First-time buyers need ho...            \n",
       "3  unitedkingdom  House prices record seventh consecutive monthl...            \n",
       "4  unitedkingdom  UK house prices defy gloom with an average £3,...            \n",
       "\n",
       "            created_utc       id kind  \n",
       "0  2023-05-25T07:01:54Z  13r9i18   t3  \n",
       "1  2023-05-17T21:10:14Z  13kcn08   t3  \n",
       "2  2023-05-03T20:48:31Z  136xfy3   t3  \n",
       "3  2023-03-31T07:18:23Z  127c6f5   t3  \n",
       "4  2023-03-20T10:28:26Z  11wf04a   t3  "
      ]
     },
     "execution_count": 10,
     "metadata": {},
     "output_type": "execute_result"
    }
   ],
   "source": [
    "UK = pd.DataFrame()\n",
    "params = {'limit': 100}\n",
    "\n",
    "\n",
    "link2 = requests.get(\"https://oauth.reddit.com/r/unitedkingdom/search/?q=housing%20price&restrict_sr=1\",\n",
    "                       headers=headers,\n",
    "                       params=params)\n",
    "\n",
    "\n",
    "\n",
    "\n",
    "for i in range(50):\n",
    "    \n",
    "    res = link2\n",
    "\n",
    "    \n",
    "    new_df = df_from_reddit(res)\n",
    "    \n",
    "    row = new_df.iloc[len(new_df)-1]\n",
    "\n",
    "    \n",
    "    fullname = row['kind'] + '_' + row['id']\n",
    "    \n",
    "    params['after'] = fullname\n",
    "    \n",
    "    \n",
    "    UK = pd.concat([UK, new_df], ignore_index=True)\n",
    "\n",
    "\n",
    "UK.head()\n"
   ]
  },
  {
   "cell_type": "code",
   "execution_count": 11,
   "id": "16f15157",
   "metadata": {},
   "outputs": [
    {
     "data": {
      "text/html": [
       "<div>\n",
       "<style scoped>\n",
       "    .dataframe tbody tr th:only-of-type {\n",
       "        vertical-align: middle;\n",
       "    }\n",
       "\n",
       "    .dataframe tbody tr th {\n",
       "        vertical-align: top;\n",
       "    }\n",
       "\n",
       "    .dataframe thead th {\n",
       "        text-align: right;\n",
       "    }\n",
       "</style>\n",
       "<table border=\"1\" class=\"dataframe\">\n",
       "  <thead>\n",
       "    <tr style=\"text-align: right;\">\n",
       "      <th></th>\n",
       "      <th>subreddit</th>\n",
       "      <th>title</th>\n",
       "      <th>selftext</th>\n",
       "      <th>created_utc</th>\n",
       "      <th>id</th>\n",
       "      <th>kind</th>\n",
       "    </tr>\n",
       "  </thead>\n",
       "  <tbody>\n",
       "    <tr>\n",
       "      <th>0</th>\n",
       "      <td>ireland</td>\n",
       "      <td>Dan O'Brien on Twitter re housing price growth...</td>\n",
       "      <td></td>\n",
       "      <td>2022-05-16T11:54:09Z</td>\n",
       "      <td>uqt5hf</td>\n",
       "      <td>t3</td>\n",
       "    </tr>\n",
       "    <tr>\n",
       "      <th>1</th>\n",
       "      <td>ireland</td>\n",
       "      <td>Is a housing price crash coming?</td>\n",
       "      <td>I have no idea how most of this stuff works, b...</td>\n",
       "      <td>2022-04-20T13:17:23Z</td>\n",
       "      <td>u7v60i</td>\n",
       "      <td>t3</td>\n",
       "    </tr>\n",
       "    <tr>\n",
       "      <th>2</th>\n",
       "      <td>ireland</td>\n",
       "      <td>Irish house prices rise 8.9% in first three mo...</td>\n",
       "      <td></td>\n",
       "      <td>2023-05-11T11:53:51Z</td>\n",
       "      <td>13ejsvy</td>\n",
       "      <td>t3</td>\n",
       "    </tr>\n",
       "    <tr>\n",
       "      <th>3</th>\n",
       "      <td>ireland</td>\n",
       "      <td>Third consecutive month of house price decline...</td>\n",
       "      <td></td>\n",
       "      <td>2023-05-17T12:16:03Z</td>\n",
       "      <td>13jyrhv</td>\n",
       "      <td>t3</td>\n",
       "    </tr>\n",
       "    <tr>\n",
       "      <th>4</th>\n",
       "      <td>ireland</td>\n",
       "      <td>House Prices and Inflation</td>\n",
       "      <td></td>\n",
       "      <td>2023-03-29T15:43:10Z</td>\n",
       "      <td>125q8tn</td>\n",
       "      <td>t3</td>\n",
       "    </tr>\n",
       "  </tbody>\n",
       "</table>\n",
       "</div>"
      ],
      "text/plain": [
       "  subreddit                                              title  \\\n",
       "0   ireland  Dan O'Brien on Twitter re housing price growth...   \n",
       "1   ireland                   Is a housing price crash coming?   \n",
       "2   ireland  Irish house prices rise 8.9% in first three mo...   \n",
       "3   ireland  Third consecutive month of house price decline...   \n",
       "4   ireland                         House Prices and Inflation   \n",
       "\n",
       "                                            selftext           created_utc  \\\n",
       "0                                                     2022-05-16T11:54:09Z   \n",
       "1  I have no idea how most of this stuff works, b...  2022-04-20T13:17:23Z   \n",
       "2                                                     2023-05-11T11:53:51Z   \n",
       "3                                                     2023-05-17T12:16:03Z   \n",
       "4                                                     2023-03-29T15:43:10Z   \n",
       "\n",
       "        id kind  \n",
       "0   uqt5hf   t3  \n",
       "1   u7v60i   t3  \n",
       "2  13ejsvy   t3  \n",
       "3  13jyrhv   t3  \n",
       "4  125q8tn   t3  "
      ]
     },
     "execution_count": 11,
     "metadata": {},
     "output_type": "execute_result"
    }
   ],
   "source": [
    "Ireland = pd.DataFrame()\n",
    "params = {'limit': 100}\n",
    "\n",
    "\n",
    "link1 = requests.get(\"https://oauth.reddit.com/r/ireland/search/?q=housing%20price&restrict_sr=1\",\n",
    "                       headers=headers,\n",
    "                       params=params)\n",
    "\n",
    "\n",
    "\n",
    "\n",
    "for i in range(50):\n",
    "    \n",
    "    res = link1\n",
    "\n",
    "    \n",
    "    new_df = df_from_reddit(res)\n",
    "    \n",
    "    row = new_df.iloc[len(new_df)-1]\n",
    "\n",
    "    \n",
    "    fullname = row['kind'] + '_' + row['id']\n",
    "    \n",
    "    params['after'] = fullname\n",
    "    \n",
    "    \n",
    "    Ireland = pd.concat([Ireland, new_df], ignore_index=True)\n",
    "\n",
    "\n",
    "Ireland.head()\n"
   ]
  },
  {
   "cell_type": "raw",
   "id": "0884eed0",
   "metadata": {
    "slideshow": {
     "slide_type": "slide"
    }
   },
   "source": [
    "Ireland.info()"
   ]
  },
  {
   "cell_type": "code",
   "execution_count": 12,
   "id": "69f371bc",
   "metadata": {},
   "outputs": [],
   "source": [
    "Ireland.to_json('Ireland_save.json', orient='records')"
   ]
  },
  {
   "cell_type": "code",
   "execution_count": 13,
   "id": "f974936d",
   "metadata": {},
   "outputs": [],
   "source": [
    "Ireland_sj = pd.read_json('Ireland_save1.json')"
   ]
  },
  {
   "cell_type": "code",
   "execution_count": 15,
   "id": "5c80c06c",
   "metadata": {},
   "outputs": [],
   "source": [
    "UK.to_json('UK_save.json', orient='records')"
   ]
  },
  {
   "cell_type": "code",
   "execution_count": 16,
   "id": "9af7493a",
   "metadata": {},
   "outputs": [],
   "source": [
    "UK_sj = pd.read_json('UK_save1.json')"
   ]
  },
  {
   "cell_type": "code",
   "execution_count": 17,
   "id": "53690ccb",
   "metadata": {},
   "outputs": [],
   "source": [
    "Ireland_UK = pd.concat([Ireland_sj, UK_sj], ignore_index=True)"
   ]
  },
  {
   "cell_type": "code",
   "execution_count": 18,
   "id": "43a4d5c0",
   "metadata": {},
   "outputs": [
    {
     "data": {
      "text/html": [
       "<div>\n",
       "<style scoped>\n",
       "    .dataframe tbody tr th:only-of-type {\n",
       "        vertical-align: middle;\n",
       "    }\n",
       "\n",
       "    .dataframe tbody tr th {\n",
       "        vertical-align: top;\n",
       "    }\n",
       "\n",
       "    .dataframe thead th {\n",
       "        text-align: right;\n",
       "    }\n",
       "</style>\n",
       "<table border=\"1\" class=\"dataframe\">\n",
       "  <thead>\n",
       "    <tr style=\"text-align: right;\">\n",
       "      <th></th>\n",
       "      <th>subreddit</th>\n",
       "      <th>title</th>\n",
       "      <th>selftext</th>\n",
       "      <th>created_utc</th>\n",
       "      <th>id</th>\n",
       "      <th>kind</th>\n",
       "    </tr>\n",
       "  </thead>\n",
       "  <tbody>\n",
       "    <tr>\n",
       "      <th>0</th>\n",
       "      <td>ireland</td>\n",
       "      <td>Dan O'Brien on Twitter re housing price growth...</td>\n",
       "      <td></td>\n",
       "      <td>2022-05-16T11:54:09Z</td>\n",
       "      <td>uqt5hf</td>\n",
       "      <td>t3</td>\n",
       "    </tr>\n",
       "    <tr>\n",
       "      <th>1</th>\n",
       "      <td>ireland</td>\n",
       "      <td>Is a housing price crash coming?</td>\n",
       "      <td>I have no idea how most of this stuff works, b...</td>\n",
       "      <td>2022-04-20T13:17:23Z</td>\n",
       "      <td>u7v60i</td>\n",
       "      <td>t3</td>\n",
       "    </tr>\n",
       "    <tr>\n",
       "      <th>2</th>\n",
       "      <td>ireland</td>\n",
       "      <td>Irish house prices rise 8.9% in first three mo...</td>\n",
       "      <td></td>\n",
       "      <td>2023-05-11T11:53:51Z</td>\n",
       "      <td>13ejsvy</td>\n",
       "      <td>t3</td>\n",
       "    </tr>\n",
       "    <tr>\n",
       "      <th>3</th>\n",
       "      <td>ireland</td>\n",
       "      <td>Third consecutive month of house price decline...</td>\n",
       "      <td></td>\n",
       "      <td>2023-05-17T12:16:03Z</td>\n",
       "      <td>13jyrhv</td>\n",
       "      <td>t3</td>\n",
       "    </tr>\n",
       "    <tr>\n",
       "      <th>4</th>\n",
       "      <td>ireland</td>\n",
       "      <td>House Prices and Inflation</td>\n",
       "      <td></td>\n",
       "      <td>2023-03-29T15:43:10Z</td>\n",
       "      <td>125q8tn</td>\n",
       "      <td>t3</td>\n",
       "    </tr>\n",
       "  </tbody>\n",
       "</table>\n",
       "</div>"
      ],
      "text/plain": [
       "  subreddit                                              title  \\\n",
       "0   ireland  Dan O'Brien on Twitter re housing price growth...   \n",
       "1   ireland                   Is a housing price crash coming?   \n",
       "2   ireland  Irish house prices rise 8.9% in first three mo...   \n",
       "3   ireland  Third consecutive month of house price decline...   \n",
       "4   ireland                         House Prices and Inflation   \n",
       "\n",
       "                                            selftext           created_utc  \\\n",
       "0                                                     2022-05-16T11:54:09Z   \n",
       "1  I have no idea how most of this stuff works, b...  2022-04-20T13:17:23Z   \n",
       "2                                                     2023-05-11T11:53:51Z   \n",
       "3                                                     2023-05-17T12:16:03Z   \n",
       "4                                                     2023-03-29T15:43:10Z   \n",
       "\n",
       "        id kind  \n",
       "0   uqt5hf   t3  \n",
       "1   u7v60i   t3  \n",
       "2  13ejsvy   t3  \n",
       "3  13jyrhv   t3  \n",
       "4  125q8tn   t3  "
      ]
     },
     "execution_count": 18,
     "metadata": {},
     "output_type": "execute_result"
    }
   ],
   "source": [
    "Ireland_UK.head()"
   ]
  },
  {
   "cell_type": "code",
   "execution_count": 19,
   "id": "f3ef728c",
   "metadata": {},
   "outputs": [],
   "source": [
    "Ireland_UK['all_text']= Ireland_UK['title']+ ' ' + Ireland_UK['selftext']"
   ]
  },
  {
   "cell_type": "code",
   "execution_count": 20,
   "id": "17c7cb3c",
   "metadata": {},
   "outputs": [
    {
     "data": {
      "text/html": [
       "<div>\n",
       "<style scoped>\n",
       "    .dataframe tbody tr th:only-of-type {\n",
       "        vertical-align: middle;\n",
       "    }\n",
       "\n",
       "    .dataframe tbody tr th {\n",
       "        vertical-align: top;\n",
       "    }\n",
       "\n",
       "    .dataframe thead th {\n",
       "        text-align: right;\n",
       "    }\n",
       "</style>\n",
       "<table border=\"1\" class=\"dataframe\">\n",
       "  <thead>\n",
       "    <tr style=\"text-align: right;\">\n",
       "      <th></th>\n",
       "      <th>subreddit</th>\n",
       "      <th>created_utc</th>\n",
       "      <th>id</th>\n",
       "      <th>kind</th>\n",
       "      <th>all_text</th>\n",
       "    </tr>\n",
       "  </thead>\n",
       "  <tbody>\n",
       "    <tr>\n",
       "      <th>0</th>\n",
       "      <td>ireland</td>\n",
       "      <td>2022-05-16T11:54:09Z</td>\n",
       "      <td>uqt5hf</td>\n",
       "      <td>t3</td>\n",
       "      <td>Dan O'Brien on Twitter re housing price growth...</td>\n",
       "    </tr>\n",
       "    <tr>\n",
       "      <th>1</th>\n",
       "      <td>ireland</td>\n",
       "      <td>2022-04-20T13:17:23Z</td>\n",
       "      <td>u7v60i</td>\n",
       "      <td>t3</td>\n",
       "      <td>Is a housing price crash coming? I have no ide...</td>\n",
       "    </tr>\n",
       "    <tr>\n",
       "      <th>2</th>\n",
       "      <td>ireland</td>\n",
       "      <td>2023-05-11T11:53:51Z</td>\n",
       "      <td>13ejsvy</td>\n",
       "      <td>t3</td>\n",
       "      <td>Irish house prices rise 8.9% in first three mo...</td>\n",
       "    </tr>\n",
       "    <tr>\n",
       "      <th>3</th>\n",
       "      <td>ireland</td>\n",
       "      <td>2023-05-17T12:16:03Z</td>\n",
       "      <td>13jyrhv</td>\n",
       "      <td>t3</td>\n",
       "      <td>Third consecutive month of house price decline...</td>\n",
       "    </tr>\n",
       "    <tr>\n",
       "      <th>4</th>\n",
       "      <td>ireland</td>\n",
       "      <td>2023-03-29T15:43:10Z</td>\n",
       "      <td>125q8tn</td>\n",
       "      <td>t3</td>\n",
       "      <td>House Prices and Inflation</td>\n",
       "    </tr>\n",
       "    <tr>\n",
       "      <th>...</th>\n",
       "      <td>...</td>\n",
       "      <td>...</td>\n",
       "      <td>...</td>\n",
       "      <td>...</td>\n",
       "      <td>...</td>\n",
       "    </tr>\n",
       "    <tr>\n",
       "      <th>9995</th>\n",
       "      <td>unitedkingdom</td>\n",
       "      <td>2021-05-01T10:26:03Z</td>\n",
       "      <td>n2exto</td>\n",
       "      <td>t3</td>\n",
       "      <td>UK house prices increase at fastest rate since...</td>\n",
       "    </tr>\n",
       "    <tr>\n",
       "      <th>9996</th>\n",
       "      <td>unitedkingdom</td>\n",
       "      <td>2022-04-07T13:20:31Z</td>\n",
       "      <td>tybubq</td>\n",
       "      <td>t3</td>\n",
       "      <td>House price rise since first lockdown revealed</td>\n",
       "    </tr>\n",
       "    <tr>\n",
       "      <th>9997</th>\n",
       "      <td>unitedkingdom</td>\n",
       "      <td>2014-04-13T21:30:29Z</td>\n",
       "      <td>22y4jw</td>\n",
       "      <td>t3</td>\n",
       "      <td>Yougov: Londoners blame rich foreigners for ho...</td>\n",
       "    </tr>\n",
       "    <tr>\n",
       "      <th>9998</th>\n",
       "      <td>unitedkingdom</td>\n",
       "      <td>2022-05-06T09:18:55Z</td>\n",
       "      <td>ujio20</td>\n",
       "      <td>t3</td>\n",
       "      <td>House prices hit new record but growth set to ...</td>\n",
       "    </tr>\n",
       "    <tr>\n",
       "      <th>9999</th>\n",
       "      <td>unitedkingdom</td>\n",
       "      <td>2021-11-17T23:35:07Z</td>\n",
       "      <td>qwc1at</td>\n",
       "      <td>t3</td>\n",
       "      <td>Second homes: Man fears house prices could rui...</td>\n",
       "    </tr>\n",
       "  </tbody>\n",
       "</table>\n",
       "<p>10000 rows × 5 columns</p>\n",
       "</div>"
      ],
      "text/plain": [
       "          subreddit           created_utc       id kind  \\\n",
       "0           ireland  2022-05-16T11:54:09Z   uqt5hf   t3   \n",
       "1           ireland  2022-04-20T13:17:23Z   u7v60i   t3   \n",
       "2           ireland  2023-05-11T11:53:51Z  13ejsvy   t3   \n",
       "3           ireland  2023-05-17T12:16:03Z  13jyrhv   t3   \n",
       "4           ireland  2023-03-29T15:43:10Z  125q8tn   t3   \n",
       "...             ...                   ...      ...  ...   \n",
       "9995  unitedkingdom  2021-05-01T10:26:03Z   n2exto   t3   \n",
       "9996  unitedkingdom  2022-04-07T13:20:31Z   tybubq   t3   \n",
       "9997  unitedkingdom  2014-04-13T21:30:29Z   22y4jw   t3   \n",
       "9998  unitedkingdom  2022-05-06T09:18:55Z   ujio20   t3   \n",
       "9999  unitedkingdom  2021-11-17T23:35:07Z   qwc1at   t3   \n",
       "\n",
       "                                               all_text  \n",
       "0     Dan O'Brien on Twitter re housing price growth...  \n",
       "1     Is a housing price crash coming? I have no ide...  \n",
       "2     Irish house prices rise 8.9% in first three mo...  \n",
       "3     Third consecutive month of house price decline...  \n",
       "4                           House Prices and Inflation   \n",
       "...                                                 ...  \n",
       "9995  UK house prices increase at fastest rate since...  \n",
       "9996    House price rise since first lockdown revealed   \n",
       "9997  Yougov: Londoners blame rich foreigners for ho...  \n",
       "9998  House prices hit new record but growth set to ...  \n",
       "9999  Second homes: Man fears house prices could rui...  \n",
       "\n",
       "[10000 rows x 5 columns]"
      ]
     },
     "execution_count": 20,
     "metadata": {},
     "output_type": "execute_result"
    }
   ],
   "source": [
    "Ireland_UK.drop(columns=['title','selftext'])"
   ]
  },
  {
   "cell_type": "code",
   "execution_count": 21,
   "id": "8a5434c7",
   "metadata": {},
   "outputs": [],
   "source": [
    "from IPython import display\n",
    "import math\n",
    "from pprint import pprint\n",
    "import pandas as pd\n",
    "import numpy as np\n",
    "import nltk\n",
    "import matplotlib.pyplot as plt\n",
    "import seaborn as sns\n",
    "sns.set(style='darkgrid', context='talk', palette='Dark2')"
   ]
  },
  {
   "cell_type": "code",
   "execution_count": 22,
   "id": "311900fa",
   "metadata": {
    "ExecuteTime": {
     "end_time": "2023-05-08T20:34:16.465384Z",
     "start_time": "2023-05-08T20:34:15.842244Z"
    }
   },
   "outputs": [
    {
     "name": "stderr",
     "output_type": "stream",
     "text": [
      "[nltk_data] Downloading package punkt to\n",
      "[nltk_data]     /Users/beatricebuttiglione/nltk_data...\n",
      "[nltk_data]   Package punkt is already up-to-date!\n",
      "[nltk_data] Downloading package stopwords to\n",
      "[nltk_data]     /Users/beatricebuttiglione/nltk_data...\n",
      "[nltk_data]   Package stopwords is already up-to-date!\n"
     ]
    },
    {
     "data": {
      "text/plain": [
       "True"
      ]
     },
     "execution_count": 22,
     "metadata": {},
     "output_type": "execute_result"
    }
   ],
   "source": [
    "nltk.download('punkt')\n",
    "nltk.download('stopwords')"
   ]
  },
  {
   "cell_type": "code",
   "execution_count": 23,
   "id": "58976565",
   "metadata": {},
   "outputs": [],
   "source": [
    "from nltk.sentiment.vader import SentimentIntensityAnalyzer as SIA\n",
    "\n",
    "sia = SIA()\n",
    "results = []\n",
    "\n",
    "for line in Ireland_UK['all_text']:\n",
    "    pol_score = sia.polarity_scores(line)\n",
    "    pol_score['Ireland_UK'] = line\n",
    "    results.append(pol_score)\n",
    "\n",
    "\n",
    "\n",
    "\n"
   ]
  },
  {
   "cell_type": "code",
   "execution_count": 24,
   "id": "6ab5f7d8",
   "metadata": {},
   "outputs": [
    {
     "data": {
      "text/html": [
       "<div>\n",
       "<style scoped>\n",
       "    .dataframe tbody tr th:only-of-type {\n",
       "        vertical-align: middle;\n",
       "    }\n",
       "\n",
       "    .dataframe tbody tr th {\n",
       "        vertical-align: top;\n",
       "    }\n",
       "\n",
       "    .dataframe thead th {\n",
       "        text-align: right;\n",
       "    }\n",
       "</style>\n",
       "<table border=\"1\" class=\"dataframe\">\n",
       "  <thead>\n",
       "    <tr style=\"text-align: right;\">\n",
       "      <th></th>\n",
       "      <th>neg</th>\n",
       "      <th>neu</th>\n",
       "      <th>pos</th>\n",
       "      <th>compound</th>\n",
       "      <th>Ireland_UK</th>\n",
       "    </tr>\n",
       "  </thead>\n",
       "  <tbody>\n",
       "    <tr>\n",
       "      <th>0</th>\n",
       "      <td>0.000</td>\n",
       "      <td>0.755</td>\n",
       "      <td>0.245</td>\n",
       "      <td>0.3818</td>\n",
       "      <td>Dan O'Brien on Twitter re housing price growth...</td>\n",
       "    </tr>\n",
       "    <tr>\n",
       "      <th>1</th>\n",
       "      <td>0.027</td>\n",
       "      <td>0.736</td>\n",
       "      <td>0.237</td>\n",
       "      <td>0.9827</td>\n",
       "      <td>Is a housing price crash coming? I have no ide...</td>\n",
       "    </tr>\n",
       "    <tr>\n",
       "      <th>2</th>\n",
       "      <td>0.000</td>\n",
       "      <td>1.000</td>\n",
       "      <td>0.000</td>\n",
       "      <td>0.0000</td>\n",
       "      <td>Irish house prices rise 8.9% in first three mo...</td>\n",
       "    </tr>\n",
       "    <tr>\n",
       "      <th>3</th>\n",
       "      <td>0.000</td>\n",
       "      <td>1.000</td>\n",
       "      <td>0.000</td>\n",
       "      <td>0.0000</td>\n",
       "      <td>Third consecutive month of house price decline...</td>\n",
       "    </tr>\n",
       "    <tr>\n",
       "      <th>4</th>\n",
       "      <td>0.000</td>\n",
       "      <td>1.000</td>\n",
       "      <td>0.000</td>\n",
       "      <td>0.0000</td>\n",
       "      <td>House Prices and Inflation</td>\n",
       "    </tr>\n",
       "  </tbody>\n",
       "</table>\n",
       "</div>"
      ],
      "text/plain": [
       "     neg    neu    pos  compound  \\\n",
       "0  0.000  0.755  0.245    0.3818   \n",
       "1  0.027  0.736  0.237    0.9827   \n",
       "2  0.000  1.000  0.000    0.0000   \n",
       "3  0.000  1.000  0.000    0.0000   \n",
       "4  0.000  1.000  0.000    0.0000   \n",
       "\n",
       "                                          Ireland_UK  \n",
       "0  Dan O'Brien on Twitter re housing price growth...  \n",
       "1  Is a housing price crash coming? I have no ide...  \n",
       "2  Irish house prices rise 8.9% in first three mo...  \n",
       "3  Third consecutive month of house price decline...  \n",
       "4                        House Prices and Inflation   "
      ]
     },
     "execution_count": 24,
     "metadata": {},
     "output_type": "execute_result"
    }
   ],
   "source": [
    "df = pd.DataFrame.from_records(results)\n",
    "df.head()"
   ]
  },
  {
   "cell_type": "code",
   "execution_count": 25,
   "id": "b9fc7951",
   "metadata": {},
   "outputs": [
    {
     "data": {
      "text/html": [
       "<div>\n",
       "<style scoped>\n",
       "    .dataframe tbody tr th:only-of-type {\n",
       "        vertical-align: middle;\n",
       "    }\n",
       "\n",
       "    .dataframe tbody tr th {\n",
       "        vertical-align: top;\n",
       "    }\n",
       "\n",
       "    .dataframe thead th {\n",
       "        text-align: right;\n",
       "    }\n",
       "</style>\n",
       "<table border=\"1\" class=\"dataframe\">\n",
       "  <thead>\n",
       "    <tr style=\"text-align: right;\">\n",
       "      <th></th>\n",
       "      <th>neg</th>\n",
       "      <th>neu</th>\n",
       "      <th>pos</th>\n",
       "      <th>compound</th>\n",
       "      <th>Ireland_UK</th>\n",
       "      <th>label</th>\n",
       "    </tr>\n",
       "  </thead>\n",
       "  <tbody>\n",
       "    <tr>\n",
       "      <th>0</th>\n",
       "      <td>0.000</td>\n",
       "      <td>0.755</td>\n",
       "      <td>0.245</td>\n",
       "      <td>0.3818</td>\n",
       "      <td>Dan O'Brien on Twitter re housing price growth...</td>\n",
       "      <td>1</td>\n",
       "    </tr>\n",
       "    <tr>\n",
       "      <th>1</th>\n",
       "      <td>0.027</td>\n",
       "      <td>0.736</td>\n",
       "      <td>0.237</td>\n",
       "      <td>0.9827</td>\n",
       "      <td>Is a housing price crash coming? I have no ide...</td>\n",
       "      <td>1</td>\n",
       "    </tr>\n",
       "    <tr>\n",
       "      <th>2</th>\n",
       "      <td>0.000</td>\n",
       "      <td>1.000</td>\n",
       "      <td>0.000</td>\n",
       "      <td>0.0000</td>\n",
       "      <td>Irish house prices rise 8.9% in first three mo...</td>\n",
       "      <td>0</td>\n",
       "    </tr>\n",
       "    <tr>\n",
       "      <th>3</th>\n",
       "      <td>0.000</td>\n",
       "      <td>1.000</td>\n",
       "      <td>0.000</td>\n",
       "      <td>0.0000</td>\n",
       "      <td>Third consecutive month of house price decline...</td>\n",
       "      <td>0</td>\n",
       "    </tr>\n",
       "    <tr>\n",
       "      <th>4</th>\n",
       "      <td>0.000</td>\n",
       "      <td>1.000</td>\n",
       "      <td>0.000</td>\n",
       "      <td>0.0000</td>\n",
       "      <td>House Prices and Inflation</td>\n",
       "      <td>0</td>\n",
       "    </tr>\n",
       "  </tbody>\n",
       "</table>\n",
       "</div>"
      ],
      "text/plain": [
       "     neg    neu    pos  compound  \\\n",
       "0  0.000  0.755  0.245    0.3818   \n",
       "1  0.027  0.736  0.237    0.9827   \n",
       "2  0.000  1.000  0.000    0.0000   \n",
       "3  0.000  1.000  0.000    0.0000   \n",
       "4  0.000  1.000  0.000    0.0000   \n",
       "\n",
       "                                          Ireland_UK  label  \n",
       "0  Dan O'Brien on Twitter re housing price growth...      1  \n",
       "1  Is a housing price crash coming? I have no ide...      1  \n",
       "2  Irish house prices rise 8.9% in first three mo...      0  \n",
       "3  Third consecutive month of house price decline...      0  \n",
       "4                        House Prices and Inflation       0  "
      ]
     },
     "execution_count": 25,
     "metadata": {},
     "output_type": "execute_result"
    }
   ],
   "source": [
    "df['label'] = 0\n",
    "df.loc[df['compound'] > 0.2, 'label'] = 1\n",
    "df.loc[df['compound'] < -0.2, 'label'] = -1\n",
    "df.head()"
   ]
  },
  {
   "cell_type": "code",
   "execution_count": 26,
   "id": "469be115",
   "metadata": {},
   "outputs": [
    {
     "name": "stdout",
     "output_type": "stream",
     "text": [
      "Positive headlines:\n",
      "\n",
      "[\"Dan O'Brien on Twitter re housing price growth deceleration \",\n",
      " 'Is a housing price crash coming? I have no idea how most of this stuff works, but my partner and I have begun saving and would like to go for a mortgage in and around north Wicklow in about 4/5 '\n",
      " 'years. \\n'\n",
      " '\\n'\n",
      " 'I keep hearing friends say stuff like \"Oh, give it time, the bottoms going to fall out of the market and house prices will eventually fall\". \\n'\n",
      " '\\n'\n",
      " \"But like, is this all just wishful thinking? I know (think) prices fluctuate and I guess they can't stay high forever, but I dunno. \\n\"\n",
      " '\\n'\n",
      " 'Anyone smarter than me have an idea?\\n'\n",
      " '\\n'\n",
      " 'EDIT: Thanks everyone for the explanations/estimates! Appreciate the clarity on the situation! ☺️']\n",
      "\n",
      "Negative headlines:\n",
      "\n",
      "['Crazy house prices: ‘I think it’s starting to resonate that millennials aren’t just complaining’ ',\n",
      " \"Do you think housing prices will eventually fall within the next few years? Genuine question from someone who can't afford a home right now. Curious to see the reasoning to the answers. We \"\n",
      " \"obviously have a housing shortage, but there's also a rise of people losing jobs with recent cuts/closures like Argos, Wayfair &amp; across the tech industry, etc, which will lead to difficulty \"\n",
      " 'paying/getting mortgages, etc.']\n"
     ]
    }
   ],
   "source": [
    "print(\"Positive headlines:\\n\")\n",
    "pprint(list(df[df['label'] == 1].Ireland_UK)[:2], width=200)\n",
    "\n",
    "print(\"\\nNegative headlines:\\n\")\n",
    "pprint(list(df[df['label'] == -1].Ireland_UK)[:2], width=200)"
   ]
  },
  {
   "cell_type": "code",
   "execution_count": 27,
   "id": "88b2eb55",
   "metadata": {},
   "outputs": [
    {
     "name": "stdout",
     "output_type": "stream",
     "text": [
      " 0    4750\n",
      "-1    2650\n",
      " 1    2600\n",
      "Name: label, dtype: int64\n"
     ]
    }
   ],
   "source": [
    "print(df.label.value_counts())\n"
   ]
  },
  {
   "cell_type": "code",
   "execution_count": 28,
   "id": "621000a7",
   "metadata": {},
   "outputs": [
    {
     "data": {
      "image/png": "[encoded data removed]",
      "text/plain": [
       "<Figure size 400x400 with 1 Axes>"
      ]
     },
     "metadata": {},
     "output_type": "display_data"
    }
   ],
   "source": [
    "fig, ax = plt.subplots(figsize=(4, 4))\n",
    "\n",
    "counts = df.label.value_counts(normalize=True) * 100\n",
    "\n",
    "sns.barplot(x=counts.index, y=counts, ax=ax)\n",
    "\n",
    "ax.set_xticklabels(['Negative', 'Neutral', 'Positive'])\n",
    "ax.set_ylabel(\"Count\")\n",
    "\n",
    "plt.show()"
   ]
  },
  {
   "cell_type": "code",
   "execution_count": 29,
   "id": "9d2b76dc",
   "metadata": {},
   "outputs": [],
   "source": [
    "from nltk.corpus import stopwords\n",
    "\n",
    "stop_words = stopwords.words('english')"
   ]
  },
  {
   "cell_type": "code",
   "execution_count": null,
   "id": "d22d2214",
   "metadata": {},
   "outputs": [],
   "source": []
  },
  {
   "cell_type": "code",
   "execution_count": 30,
   "id": "4bbd05eb",
   "metadata": {},
   "outputs": [],
   "source": [
    "from nltk.tokenize import word_tokenize\n",
    "import string\n",
    "\n",
    "def get_text_processing(text):\n",
    "    stpword = stopwords.words('english')\n",
    "    no_punctuation = [char for char in text if char not in string.punctuation]\n",
    "    no_punctuation = ''.join(no_punctuation)\n",
    "    return ' '.join([word for word in no_punctuation.split() if word.lower() not in stpword])\n"
   ]
  },
  {
   "cell_type": "code",
   "execution_count": 31,
   "id": "2fd12243",
   "metadata": {},
   "outputs": [],
   "source": [
    "df['Ireland_UK'] = df['Ireland_UK'].apply(get_text_processing)\n"
   ]
  },
  {
   "cell_type": "code",
   "execution_count": 32,
   "id": "041c5f49",
   "metadata": {},
   "outputs": [
    {
     "data": {
      "text/html": [
       "<div>\n",
       "<style scoped>\n",
       "    .dataframe tbody tr th:only-of-type {\n",
       "        vertical-align: middle;\n",
       "    }\n",
       "\n",
       "    .dataframe tbody tr th {\n",
       "        vertical-align: top;\n",
       "    }\n",
       "\n",
       "    .dataframe thead th {\n",
       "        text-align: right;\n",
       "    }\n",
       "</style>\n",
       "<table border=\"1\" class=\"dataframe\">\n",
       "  <thead>\n",
       "    <tr style=\"text-align: right;\">\n",
       "      <th></th>\n",
       "      <th>neg</th>\n",
       "      <th>neu</th>\n",
       "      <th>pos</th>\n",
       "      <th>compound</th>\n",
       "      <th>Ireland_UK</th>\n",
       "      <th>label</th>\n",
       "    </tr>\n",
       "  </thead>\n",
       "  <tbody>\n",
       "    <tr>\n",
       "      <th>0</th>\n",
       "      <td>0.000</td>\n",
       "      <td>0.755</td>\n",
       "      <td>0.245</td>\n",
       "      <td>0.3818</td>\n",
       "      <td>Dan OBrien Twitter housing price growth decele...</td>\n",
       "      <td>1</td>\n",
       "    </tr>\n",
       "    <tr>\n",
       "      <th>1</th>\n",
       "      <td>0.027</td>\n",
       "      <td>0.736</td>\n",
       "      <td>0.237</td>\n",
       "      <td>0.9827</td>\n",
       "      <td>housing price crash coming idea stuff works pa...</td>\n",
       "      <td>1</td>\n",
       "    </tr>\n",
       "    <tr>\n",
       "      <th>2</th>\n",
       "      <td>0.000</td>\n",
       "      <td>1.000</td>\n",
       "      <td>0.000</td>\n",
       "      <td>0.0000</td>\n",
       "      <td>Irish house prices rise 89 first three months ...</td>\n",
       "      <td>0</td>\n",
       "    </tr>\n",
       "    <tr>\n",
       "      <th>3</th>\n",
       "      <td>0.000</td>\n",
       "      <td>1.000</td>\n",
       "      <td>0.000</td>\n",
       "      <td>0.0000</td>\n",
       "      <td>Third consecutive month house price declines D...</td>\n",
       "      <td>0</td>\n",
       "    </tr>\n",
       "    <tr>\n",
       "      <th>4</th>\n",
       "      <td>0.000</td>\n",
       "      <td>1.000</td>\n",
       "      <td>0.000</td>\n",
       "      <td>0.0000</td>\n",
       "      <td>House Prices Inflation</td>\n",
       "      <td>0</td>\n",
       "    </tr>\n",
       "  </tbody>\n",
       "</table>\n",
       "</div>"
      ],
      "text/plain": [
       "     neg    neu    pos  compound  \\\n",
       "0  0.000  0.755  0.245    0.3818   \n",
       "1  0.027  0.736  0.237    0.9827   \n",
       "2  0.000  1.000  0.000    0.0000   \n",
       "3  0.000  1.000  0.000    0.0000   \n",
       "4  0.000  1.000  0.000    0.0000   \n",
       "\n",
       "                                          Ireland_UK  label  \n",
       "0  Dan OBrien Twitter housing price growth decele...      1  \n",
       "1  housing price crash coming idea stuff works pa...      1  \n",
       "2  Irish house prices rise 89 first three months ...      0  \n",
       "3  Third consecutive month house price declines D...      0  \n",
       "4                             House Prices Inflation      0  "
      ]
     },
     "execution_count": 32,
     "metadata": {},
     "output_type": "execute_result"
    }
   ],
   "source": [
    "df.head()"
   ]
  },
  {
   "cell_type": "code",
   "execution_count": null,
   "id": "7641198f",
   "metadata": {},
   "outputs": [],
   "source": []
  },
  {
   "cell_type": "code",
   "execution_count": 33,
   "id": "3e5d4b00",
   "metadata": {},
   "outputs": [],
   "source": [
    "from sklearn.feature_extraction.text import CountVectorizer\n",
    "vect = CountVectorizer(binary=True)"
   ]
  },
  {
   "cell_type": "code",
   "execution_count": 34,
   "id": "e063ff39",
   "metadata": {},
   "outputs": [
    {
     "data": {
      "text/plain": [
       "array([[0, 0, 0, ..., 0, 0, 0],\n",
       "       [0, 0, 0, ..., 0, 0, 0],\n",
       "       [0, 0, 0, ..., 0, 0, 0],\n",
       "       ...,\n",
       "       [0, 0, 0, ..., 0, 0, 0],\n",
       "       [0, 0, 0, ..., 0, 0, 0],\n",
       "       [0, 0, 0, ..., 0, 0, 0]])"
      ]
     },
     "execution_count": 34,
     "metadata": {},
     "output_type": "execute_result"
    }
   ],
   "source": [
    "vect = CountVectorizer()\n",
    "X = vect.fit_transform(df.Ireland_UK)\n",
    "\n",
    "X.toarray()"
   ]
  },
  {
   "cell_type": "code",
   "execution_count": 35,
   "id": "d6e5c115",
   "metadata": {},
   "outputs": [],
   "source": [
    "from sklearn.model_selection import train_test_split\n",
    "\n",
    "X = df.Ireland_UK\n",
    "y = df.label\n",
    "\n",
    "X_train, X_test, y_train, y_test = train_test_split(X, y, test_size=0.2)"
   ]
  },
  {
   "cell_type": "code",
   "execution_count": 36,
   "id": "94380c0a",
   "metadata": {},
   "outputs": [],
   "source": [
    "\n",
    "X_train_vect = vect.fit_transform(X_train)"
   ]
  },
  {
   "cell_type": "code",
   "execution_count": 37,
   "id": "77884b9c",
   "metadata": {},
   "outputs": [],
   "source": [
    "from imblearn.over_sampling import SMOTE\n",
    "\n",
    "sm = SMOTE()\n",
    "\n",
    "X_train_res, y_train_res = sm.fit_resample(X_train_vect, y_train)"
   ]
  },
  {
   "cell_type": "code",
   "execution_count": 38,
   "id": "5727174a",
   "metadata": {},
   "outputs": [
    {
     "name": "stdout",
     "output_type": "stream",
     "text": [
      "[(-1, 3823), (0, 3823), (1, 3823)]\n"
     ]
    }
   ],
   "source": [
    "unique, counts = np.unique(y_train_res, return_counts=True)\n",
    "print(list(zip(unique, counts)))"
   ]
  },
  {
   "cell_type": "code",
   "execution_count": 42,
   "id": "1de22a35",
   "metadata": {},
   "outputs": [
    {
     "data": {
      "text/plain": [
       "0.9577514273166448"
      ]
     },
     "execution_count": 42,
     "metadata": {},
     "output_type": "execute_result"
    }
   ],
   "source": [
    "from sklearn.naive_bayes import MultinomialNB\n",
    "\n",
    "nb = MultinomialNB()\n",
    "\n",
    "nb.fit(X_train_res, y_train_res)\n",
    "\n",
    "nb.score(X_train_res, y_train_res)"
   ]
  },
  {
   "cell_type": "code",
   "execution_count": 43,
   "id": "a59e792e",
   "metadata": {},
   "outputs": [
    {
     "data": {
      "text/plain": [
       "array([-1,  1, -1, ..., -1,  1, -1])"
      ]
     },
     "execution_count": 43,
     "metadata": {},
     "output_type": "execute_result"
    }
   ],
   "source": [
    "X_test_vect = vect.transform(X_test)\n",
    "\n",
    "y_pred = nb.predict(X_test_vect)\n",
    "\n",
    "y_pred"
   ]
  },
  {
   "cell_type": "code",
   "execution_count": 47,
   "id": "d53815fa",
   "metadata": {},
   "outputs": [
    {
     "name": "stdout",
     "output_type": "stream",
     "text": [
      "Average accuracy: 96.42%\n",
      "Average F1 score: 96.29%\n",
      "Average Confusion : \n",
      " [[531.    0.    0. ]\n",
      " [  0.  942.2   0. ]\n",
      " [  3.7  67.9 455.2]]\n"
     ]
    }
   ],
   "source": [
    "from sklearn.model_selection import ShuffleSplit\n",
    "from sklearn.metrics import accuracy_score\n",
    "from sklearn.metrics import f1_score\n",
    "from sklearn.metrics import confusion_matrix\n",
    "\n",
    "\n",
    "X = df.Ireland_UK\n",
    "y = df.label\n",
    "\n",
    "ss = ShuffleSplit(n_splits=10, test_size=0.2)\n",
    "sm = SMOTE()\n",
    "\n",
    "accs = []\n",
    "f1s = []\n",
    "cms = []\n",
    "\n",
    "for train_index, test_index in ss.split(X):\n",
    "    \n",
    "    X_train, X_test = X.iloc[train_index], X.iloc[test_index]\n",
    "    y_train, y_test = y.iloc[train_index], y.iloc[test_index]\n",
    "    \n",
    "    # vectorization on training and test\n",
    "    X_train_vect = vect.fit_transform(X_train)\n",
    "    X_test_vect = vect.transform(X_test)\n",
    "    \n",
    "    # smote\n",
    "    X_train_res, y_train_res = sm.fit_resample(X_train_vect, y_train)\n",
    "    \n",
    "    # fir the model and prediction\n",
    "    nb.fit(X_train_res, y_train_res)\n",
    "    y_pred = nb.predict(X_test_vect)\n",
    "    \n",
    "    # determine average accracy score across folders\n",
    "    accs.append(accuracy_score(y_test, y_pred))\n",
    "    f1s.append(f1_score(y_test, y_pred,average='macro'))\n",
    "    cms.append(confusion_matrix(y_test, y_pred))\n",
    "\n",
    "    \n",
    "print(\"Average accuracy: {:.2f}%\".format(sum(accs) / len(accs) * 100))\n",
    "print(\"Average F1 score: {:.2f}%\".format(sum(f1s) / len(f1s) * 100))\n",
    "print(\"Average Confusion : \\n {}\".format(sum(cms) / len(cms)))"
   ]
  },
  {
   "cell_type": "markdown",
   "id": "ac52e219",
   "metadata": {},
   "source": [
    "# comparison between ireland and uk"
   ]
  },
  {
   "cell_type": "code",
   "execution_count": 48,
   "id": "baec7b04",
   "metadata": {},
   "outputs": [],
   "source": [
    "UK_sj = pd.read_json('UK_save.json')"
   ]
  },
  {
   "cell_type": "code",
   "execution_count": 49,
   "id": "0630d791",
   "metadata": {},
   "outputs": [],
   "source": [
    "Ireland_sj = pd.read_json('Ireland_save.json')"
   ]
  },
  {
   "cell_type": "code",
   "execution_count": 50,
   "id": "8f67c949",
   "metadata": {},
   "outputs": [],
   "source": [
    "Ireland_UK = pd.concat([Ireland_sj, UK_sj], ignore_index=True)"
   ]
  },
  {
   "cell_type": "code",
   "execution_count": 51,
   "id": "c373ae4a",
   "metadata": {},
   "outputs": [
    {
     "data": {
      "text/html": [
       "<div>\n",
       "<style scoped>\n",
       "    .dataframe tbody tr th:only-of-type {\n",
       "        vertical-align: middle;\n",
       "    }\n",
       "\n",
       "    .dataframe tbody tr th {\n",
       "        vertical-align: top;\n",
       "    }\n",
       "\n",
       "    .dataframe thead th {\n",
       "        text-align: right;\n",
       "    }\n",
       "</style>\n",
       "<table border=\"1\" class=\"dataframe\">\n",
       "  <thead>\n",
       "    <tr style=\"text-align: right;\">\n",
       "      <th></th>\n",
       "      <th>subreddit</th>\n",
       "      <th>created_utc</th>\n",
       "      <th>id</th>\n",
       "      <th>kind</th>\n",
       "      <th>all_text</th>\n",
       "    </tr>\n",
       "  </thead>\n",
       "  <tbody>\n",
       "    <tr>\n",
       "      <th>0</th>\n",
       "      <td>ireland</td>\n",
       "      <td>2022-05-16T11:54:09Z</td>\n",
       "      <td>uqt5hf</td>\n",
       "      <td>t3</td>\n",
       "      <td>Dan O'Brien on Twitter re housing price growth...</td>\n",
       "    </tr>\n",
       "    <tr>\n",
       "      <th>1</th>\n",
       "      <td>ireland</td>\n",
       "      <td>2022-04-20T13:17:23Z</td>\n",
       "      <td>u7v60i</td>\n",
       "      <td>t3</td>\n",
       "      <td>Is a housing price crash coming? I have no ide...</td>\n",
       "    </tr>\n",
       "    <tr>\n",
       "      <th>2</th>\n",
       "      <td>ireland</td>\n",
       "      <td>2023-05-11T11:53:51Z</td>\n",
       "      <td>13ejsvy</td>\n",
       "      <td>t3</td>\n",
       "      <td>Irish house prices rise 8.9% in first three mo...</td>\n",
       "    </tr>\n",
       "    <tr>\n",
       "      <th>3</th>\n",
       "      <td>ireland</td>\n",
       "      <td>2023-05-17T12:16:03Z</td>\n",
       "      <td>13jyrhv</td>\n",
       "      <td>t3</td>\n",
       "      <td>Third consecutive month of house price decline...</td>\n",
       "    </tr>\n",
       "    <tr>\n",
       "      <th>4</th>\n",
       "      <td>ireland</td>\n",
       "      <td>2023-03-29T15:43:10Z</td>\n",
       "      <td>125q8tn</td>\n",
       "      <td>t3</td>\n",
       "      <td>House Prices and Inflation</td>\n",
       "    </tr>\n",
       "    <tr>\n",
       "      <th>...</th>\n",
       "      <td>...</td>\n",
       "      <td>...</td>\n",
       "      <td>...</td>\n",
       "      <td>...</td>\n",
       "      <td>...</td>\n",
       "    </tr>\n",
       "    <tr>\n",
       "      <th>9995</th>\n",
       "      <td>unitedkingdom</td>\n",
       "      <td>2022-04-07T13:20:31Z</td>\n",
       "      <td>tybubq</td>\n",
       "      <td>t3</td>\n",
       "      <td>House price rise since first lockdown revealed</td>\n",
       "    </tr>\n",
       "    <tr>\n",
       "      <th>9996</th>\n",
       "      <td>unitedkingdom</td>\n",
       "      <td>2021-05-01T10:26:03Z</td>\n",
       "      <td>n2exto</td>\n",
       "      <td>t3</td>\n",
       "      <td>UK house prices increase at fastest rate since...</td>\n",
       "    </tr>\n",
       "    <tr>\n",
       "      <th>9997</th>\n",
       "      <td>unitedkingdom</td>\n",
       "      <td>2014-04-13T21:30:29Z</td>\n",
       "      <td>22y4jw</td>\n",
       "      <td>t3</td>\n",
       "      <td>Yougov: Londoners blame rich foreigners for ho...</td>\n",
       "    </tr>\n",
       "    <tr>\n",
       "      <th>9998</th>\n",
       "      <td>unitedkingdom</td>\n",
       "      <td>2021-11-17T23:35:07Z</td>\n",
       "      <td>qwc1at</td>\n",
       "      <td>t3</td>\n",
       "      <td>Second homes: Man fears house prices could rui...</td>\n",
       "    </tr>\n",
       "    <tr>\n",
       "      <th>9999</th>\n",
       "      <td>unitedkingdom</td>\n",
       "      <td>2022-05-06T09:18:55Z</td>\n",
       "      <td>ujio20</td>\n",
       "      <td>t3</td>\n",
       "      <td>House prices hit new record but growth set to ...</td>\n",
       "    </tr>\n",
       "  </tbody>\n",
       "</table>\n",
       "<p>10000 rows × 5 columns</p>\n",
       "</div>"
      ],
      "text/plain": [
       "          subreddit           created_utc       id kind  \\\n",
       "0           ireland  2022-05-16T11:54:09Z   uqt5hf   t3   \n",
       "1           ireland  2022-04-20T13:17:23Z   u7v60i   t3   \n",
       "2           ireland  2023-05-11T11:53:51Z  13ejsvy   t3   \n",
       "3           ireland  2023-05-17T12:16:03Z  13jyrhv   t3   \n",
       "4           ireland  2023-03-29T15:43:10Z  125q8tn   t3   \n",
       "...             ...                   ...      ...  ...   \n",
       "9995  unitedkingdom  2022-04-07T13:20:31Z   tybubq   t3   \n",
       "9996  unitedkingdom  2021-05-01T10:26:03Z   n2exto   t3   \n",
       "9997  unitedkingdom  2014-04-13T21:30:29Z   22y4jw   t3   \n",
       "9998  unitedkingdom  2021-11-17T23:35:07Z   qwc1at   t3   \n",
       "9999  unitedkingdom  2022-05-06T09:18:55Z   ujio20   t3   \n",
       "\n",
       "                                               all_text  \n",
       "0     Dan O'Brien on Twitter re housing price growth...  \n",
       "1     Is a housing price crash coming? I have no ide...  \n",
       "2     Irish house prices rise 8.9% in first three mo...  \n",
       "3     Third consecutive month of house price decline...  \n",
       "4                           House Prices and Inflation   \n",
       "...                                                 ...  \n",
       "9995    House price rise since first lockdown revealed   \n",
       "9996  UK house prices increase at fastest rate since...  \n",
       "9997  Yougov: Londoners blame rich foreigners for ho...  \n",
       "9998  Second homes: Man fears house prices could rui...  \n",
       "9999  House prices hit new record but growth set to ...  \n",
       "\n",
       "[10000 rows x 5 columns]"
      ]
     },
     "execution_count": 51,
     "metadata": {},
     "output_type": "execute_result"
    }
   ],
   "source": [
    "Ireland_UK['all_text'] = Ireland_UK['title'] + ' ' + Ireland_UK['selftext']\n",
    "Ireland_UK.drop(columns=['title','selftext'])"
   ]
  },
  {
   "cell_type": "code",
   "execution_count": 52,
   "id": "0ecda801",
   "metadata": {},
   "outputs": [],
   "source": [
    "sia = SIA()\n",
    "results = []\n",
    "\n",
    "for line in Ireland_UK['all_text']:\n",
    "    pol_score = sia.polarity_scores(line)\n",
    "    pol_score['Polarity_score'] = line\n",
    "    results.append(pol_score)"
   ]
  },
  {
   "cell_type": "code",
   "execution_count": 53,
   "id": "22a42763",
   "metadata": {},
   "outputs": [],
   "source": [
    "df = pd.DataFrame.from_records(results)"
   ]
  },
  {
   "cell_type": "code",
   "execution_count": 54,
   "id": "66885307",
   "metadata": {},
   "outputs": [],
   "source": [
    "Ireland_UK = Ireland_UK.merge(df, left_index=True, right_index=True)"
   ]
  },
  {
   "cell_type": "code",
   "execution_count": 55,
   "id": "f03aa3c9",
   "metadata": {},
   "outputs": [],
   "source": [
    "Ireland_UK=Ireland_UK[['subreddit','compound']]"
   ]
  },
  {
   "cell_type": "code",
   "execution_count": 56,
   "id": "2880570e",
   "metadata": {},
   "outputs": [
    {
     "data": {
      "text/html": [
       "<div>\n",
       "<style scoped>\n",
       "    .dataframe tbody tr th:only-of-type {\n",
       "        vertical-align: middle;\n",
       "    }\n",
       "\n",
       "    .dataframe tbody tr th {\n",
       "        vertical-align: top;\n",
       "    }\n",
       "\n",
       "    .dataframe thead th {\n",
       "        text-align: right;\n",
       "    }\n",
       "</style>\n",
       "<table border=\"1\" class=\"dataframe\">\n",
       "  <thead>\n",
       "    <tr style=\"text-align: right;\">\n",
       "      <th></th>\n",
       "      <th>subreddit</th>\n",
       "      <th>compound</th>\n",
       "    </tr>\n",
       "  </thead>\n",
       "  <tbody>\n",
       "    <tr>\n",
       "      <th>0</th>\n",
       "      <td>ireland</td>\n",
       "      <td>0.3818</td>\n",
       "    </tr>\n",
       "    <tr>\n",
       "      <th>1</th>\n",
       "      <td>ireland</td>\n",
       "      <td>0.9827</td>\n",
       "    </tr>\n",
       "    <tr>\n",
       "      <th>2</th>\n",
       "      <td>ireland</td>\n",
       "      <td>0.0000</td>\n",
       "    </tr>\n",
       "    <tr>\n",
       "      <th>3</th>\n",
       "      <td>ireland</td>\n",
       "      <td>0.0000</td>\n",
       "    </tr>\n",
       "    <tr>\n",
       "      <th>4</th>\n",
       "      <td>ireland</td>\n",
       "      <td>0.0000</td>\n",
       "    </tr>\n",
       "  </tbody>\n",
       "</table>\n",
       "</div>"
      ],
      "text/plain": [
       "  subreddit  compound\n",
       "0   ireland    0.3818\n",
       "1   ireland    0.9827\n",
       "2   ireland    0.0000\n",
       "3   ireland    0.0000\n",
       "4   ireland    0.0000"
      ]
     },
     "execution_count": 56,
     "metadata": {},
     "output_type": "execute_result"
    }
   ],
   "source": [
    "Ireland_UK.head()"
   ]
  },
  {
   "cell_type": "code",
   "execution_count": 57,
   "id": "a2984feb",
   "metadata": {},
   "outputs": [],
   "source": [
    "\n",
    "Ireland_UK['label'] = 0\n",
    "Ireland_UK.loc[df['compound'] > 0.2, 'label'] = 1\n",
    "Ireland_UK.loc[df['compound'] < -0.2, 'label'] = -1\n"
   ]
  },
  {
   "cell_type": "code",
   "execution_count": 58,
   "id": "71adee4f",
   "metadata": {},
   "outputs": [
    {
     "data": {
      "text/html": [
       "<div>\n",
       "<style scoped>\n",
       "    .dataframe tbody tr th:only-of-type {\n",
       "        vertical-align: middle;\n",
       "    }\n",
       "\n",
       "    .dataframe tbody tr th {\n",
       "        vertical-align: top;\n",
       "    }\n",
       "\n",
       "    .dataframe thead th {\n",
       "        text-align: right;\n",
       "    }\n",
       "</style>\n",
       "<table border=\"1\" class=\"dataframe\">\n",
       "  <thead>\n",
       "    <tr style=\"text-align: right;\">\n",
       "      <th></th>\n",
       "      <th>subreddit</th>\n",
       "      <th>label</th>\n",
       "    </tr>\n",
       "  </thead>\n",
       "  <tbody>\n",
       "    <tr>\n",
       "      <th>0</th>\n",
       "      <td>ireland</td>\n",
       "      <td>1</td>\n",
       "    </tr>\n",
       "    <tr>\n",
       "      <th>1</th>\n",
       "      <td>ireland</td>\n",
       "      <td>1</td>\n",
       "    </tr>\n",
       "    <tr>\n",
       "      <th>2</th>\n",
       "      <td>ireland</td>\n",
       "      <td>0</td>\n",
       "    </tr>\n",
       "    <tr>\n",
       "      <th>3</th>\n",
       "      <td>ireland</td>\n",
       "      <td>0</td>\n",
       "    </tr>\n",
       "    <tr>\n",
       "      <th>4</th>\n",
       "      <td>ireland</td>\n",
       "      <td>0</td>\n",
       "    </tr>\n",
       "    <tr>\n",
       "      <th>...</th>\n",
       "      <td>...</td>\n",
       "      <td>...</td>\n",
       "    </tr>\n",
       "    <tr>\n",
       "      <th>9995</th>\n",
       "      <td>unitedkingdom</td>\n",
       "      <td>0</td>\n",
       "    </tr>\n",
       "    <tr>\n",
       "      <th>9996</th>\n",
       "      <td>unitedkingdom</td>\n",
       "      <td>1</td>\n",
       "    </tr>\n",
       "    <tr>\n",
       "      <th>9997</th>\n",
       "      <td>unitedkingdom</td>\n",
       "      <td>1</td>\n",
       "    </tr>\n",
       "    <tr>\n",
       "      <th>9998</th>\n",
       "      <td>unitedkingdom</td>\n",
       "      <td>-1</td>\n",
       "    </tr>\n",
       "    <tr>\n",
       "      <th>9999</th>\n",
       "      <td>unitedkingdom</td>\n",
       "      <td>1</td>\n",
       "    </tr>\n",
       "  </tbody>\n",
       "</table>\n",
       "<p>10000 rows × 2 columns</p>\n",
       "</div>"
      ],
      "text/plain": [
       "          subreddit  label\n",
       "0           ireland      1\n",
       "1           ireland      1\n",
       "2           ireland      0\n",
       "3           ireland      0\n",
       "4           ireland      0\n",
       "...             ...    ...\n",
       "9995  unitedkingdom      0\n",
       "9996  unitedkingdom      1\n",
       "9997  unitedkingdom      1\n",
       "9998  unitedkingdom     -1\n",
       "9999  unitedkingdom      1\n",
       "\n",
       "[10000 rows x 2 columns]"
      ]
     },
     "execution_count": 58,
     "metadata": {},
     "output_type": "execute_result"
    }
   ],
   "source": [
    "Ireland_UK.drop(columns='compound')"
   ]
  },
  {
   "cell_type": "code",
   "execution_count": 59,
   "id": "08add9b6",
   "metadata": {},
   "outputs": [
    {
     "name": "stdout",
     "output_type": "stream",
     "text": [
      "label            -1     0     1\n",
      "subreddit                      \n",
      "ireland        1050  2550  1400\n",
      "unitedkingdom  1600  2200  1200\n"
     ]
    }
   ],
   "source": [
    "# creation of pivot with country and polarity\n",
    "\n",
    "counts = Ireland_UK.pivot_table(index='subreddit', columns='label', aggfunc='size', fill_value=0)\n",
    "\n",
    "# Rename columns\n",
    "counts = counts.rename(columns={-1: '-1', 0: '0', 1: '1'})\n",
    "\n",
    "print(counts)"
   ]
  },
  {
   "cell_type": "code",
   "execution_count": 60,
   "id": "08345797",
   "metadata": {},
   "outputs": [
    {
     "data": {
      "text/html": [
       "<div>\n",
       "<style scoped>\n",
       "    .dataframe tbody tr th:only-of-type {\n",
       "        vertical-align: middle;\n",
       "    }\n",
       "\n",
       "    .dataframe tbody tr th {\n",
       "        vertical-align: top;\n",
       "    }\n",
       "\n",
       "    .dataframe thead th {\n",
       "        text-align: right;\n",
       "    }\n",
       "</style>\n",
       "<table border=\"1\" class=\"dataframe\">\n",
       "  <thead>\n",
       "    <tr style=\"text-align: right;\">\n",
       "      <th>label</th>\n",
       "      <th>subreddit</th>\n",
       "      <th>-1</th>\n",
       "      <th>0</th>\n",
       "      <th>1</th>\n",
       "    </tr>\n",
       "  </thead>\n",
       "  <tbody>\n",
       "    <tr>\n",
       "      <th>0</th>\n",
       "      <td>ireland</td>\n",
       "      <td>1050</td>\n",
       "      <td>2550</td>\n",
       "      <td>1400</td>\n",
       "    </tr>\n",
       "    <tr>\n",
       "      <th>1</th>\n",
       "      <td>unitedkingdom</td>\n",
       "      <td>1600</td>\n",
       "      <td>2200</td>\n",
       "      <td>1200</td>\n",
       "    </tr>\n",
       "  </tbody>\n",
       "</table>\n",
       "</div>"
      ],
      "text/plain": [
       "label      subreddit    -1     0     1\n",
       "0            ireland  1050  2550  1400\n",
       "1      unitedkingdom  1600  2200  1200"
      ]
     },
     "execution_count": 60,
     "metadata": {},
     "output_type": "execute_result"
    }
   ],
   "source": [
    "counts.reset_index()"
   ]
  },
  {
   "cell_type": "code",
   "execution_count": 61,
   "id": "d70e1d52",
   "metadata": {},
   "outputs": [
    {
     "name": "stdout",
     "output_type": "stream",
     "text": [
      "Chi-square statistic: 155.3250324650523\n",
      "p-value: 1.8689502867525888e-34\n"
     ]
    }
   ],
   "source": [
    "import scipy.stats as stats\n",
    "\n",
    "#  chi-quadro test to evaluate countries differences\n",
    "chi2, p_value, _, _ = stats.chi2_contingency(counts)\n",
    "\n",
    "# results\n",
    "print(\"Chi-square statistic:\", chi2)\n",
    "print(\"p-value:\", p_value)\n"
   ]
  },
  {
   "cell_type": "code",
   "execution_count": null,
   "id": "364e3dc1",
   "metadata": {},
   "outputs": [],
   "source": []
  },
  {
   "cell_type": "code",
   "execution_count": null,
   "id": "4d66b4f9",
   "metadata": {},
   "outputs": [],
   "source": []
  }
 ],
 "metadata": {
  "kernelspec": {
   "display_name": "Python 3 (ipykernel)",
   "language": "python",
   "name": "python3"
  },
  "language_info": {
   "codemirror_mode": {
    "name": "ipython",
    "version": 3
   },
   "file_extension": ".py",
   "mimetype": "text/x-python",
   "name": "python",
   "nbconvert_exporter": "python",
   "pygments_lexer": "ipython3",
   "version": "3.10.9"
  }
 },
 "nbformat": 4,
 "nbformat_minor": 5
}
